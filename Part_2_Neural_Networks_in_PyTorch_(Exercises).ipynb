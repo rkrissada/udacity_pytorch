{
  "nbformat": 4,
  "nbformat_minor": 0,
  "metadata": {
    "colab": {
      "name": "Part 2 - Neural Networks in PyTorch (Exercises).ipynb",
      "version": "0.3.2",
      "provenance": [],
      "collapsed_sections": [],
      "toc_visible": true,
      "include_colab_link": true
    },
    "language_info": {
      "codemirror_mode": {
        "name": "ipython",
        "version": 3
      },
      "file_extension": ".py",
      "mimetype": "text/x-python",
      "name": "python",
      "nbconvert_exporter": "python",
      "pygments_lexer": "ipython3",
      "version": "3.6.4"
    },
    "kernelspec": {
      "name": "python3",
      "display_name": "Python 3"
    },
    "accelerator": "GPU"
  },
  "cells": [
    {
      "cell_type": "markdown",
      "metadata": {
        "id": "view-in-github",
        "colab_type": "text"
      },
      "source": [
        "<a href=\"https://colab.research.google.com/github/rkrissada/udacity_pytorch/blob/master/Part_2_Neural_Networks_in_PyTorch_(Exercises).ipynb\" target=\"_parent\"><img src=\"https://colab.research.google.com/assets/colab-badge.svg\" alt=\"Open In Colab\"/></a>"
      ]
    },
    {
      "cell_type": "markdown",
      "metadata": {
        "id": "Df4AqZPuWWLY",
        "colab_type": "text"
      },
      "source": [
        "# Neural networks with PyTorch\n",
        "\n",
        "Deep learning networks tend to be massive with dozens or hundreds of layers, that's where the term \"deep\" comes from. You can build one of these deep networks using only weight matrices as we did in the previous notebook, but in general it's very cumbersome and difficult to implement. PyTorch has a nice module `nn` that provides a nice way to efficiently build large neural networks."
      ]
    },
    {
      "cell_type": "code",
      "metadata": {
        "id": "uJDVL-swWWLZ",
        "colab_type": "code",
        "colab": {}
      },
      "source": [
        "# Import necessary packages\n",
        "\n",
        "%matplotlib inline\n",
        "%config InlineBackend.figure_format = 'retina'\n",
        "\n",
        "import numpy as np\n",
        "import torch\n",
        "\n",
        "import helper\n",
        "\n",
        "import matplotlib.pyplot as plt"
      ],
      "execution_count": 0,
      "outputs": []
    },
    {
      "cell_type": "markdown",
      "metadata": {
        "id": "7S683YyzWWLd",
        "colab_type": "text"
      },
      "source": [
        "\n",
        "Now we're going to build a larger network that can solve a (formerly) difficult problem, identifying text in an image. Here we'll use the MNIST dataset which consists of greyscale handwritten digits. Each image is 28x28 pixels, you can see a sample below\n",
        "\n",
        "\n",
        "Our goal is to build a neural network that can take one of these images and predict the digit in the image.\n",
        "\n",
        "First up, we need to get our dataset. This is provided through the `torchvision` package. The code below will download the MNIST dataset, then create training and test datasets for us. Don't worry too much about the details here, you'll learn more about this later."
      ]
    },
    {
      "cell_type": "code",
      "metadata": {
        "id": "L57EUQFnWWLe",
        "colab_type": "code",
        "outputId": "62f955c0-1a65-455a-8225-a91847718391",
        "colab": {
          "base_uri": "https://localhost:8080/",
          "height": 275
        }
      },
      "source": [
        "### Run this cell\n",
        "\n",
        "from torchvision import datasets, transforms\n",
        "\n",
        "# Define a transform to normalize the data\n",
        "transform = transforms.Compose([transforms.ToTensor(),\n",
        "                              transforms.Normalize((0.5,), (0.5,)),\n",
        "                              ])\n",
        "\n",
        "# Download and load the training data\n",
        "trainset = datasets.MNIST('~/.pytorch/MNIST_data/', download=True, train=True, transform=transform)\n",
        "trainloader = torch.utils.data.DataLoader(trainset, batch_size=64, shuffle=True)"
      ],
      "execution_count": 2,
      "outputs": [
        {
          "output_type": "stream",
          "text": [
            "  0%|          | 0/9912422 [00:00<?, ?it/s]"
          ],
          "name": "stderr"
        },
        {
          "output_type": "stream",
          "text": [
            "Downloading http://yann.lecun.com/exdb/mnist/train-images-idx3-ubyte.gz to /root/.pytorch/MNIST_data/MNIST/raw/train-images-idx3-ubyte.gz\n"
          ],
          "name": "stdout"
        },
        {
          "output_type": "stream",
          "text": [
            "9920512it [00:00, 18478400.23it/s]                            \n"
          ],
          "name": "stderr"
        },
        {
          "output_type": "stream",
          "text": [
            "Extracting /root/.pytorch/MNIST_data/MNIST/raw/train-images-idx3-ubyte.gz\n"
          ],
          "name": "stdout"
        },
        {
          "output_type": "stream",
          "text": [
            "32768it [00:00, 322644.07it/s]                           \n",
            "0it [00:00, ?it/s]"
          ],
          "name": "stderr"
        },
        {
          "output_type": "stream",
          "text": [
            "Downloading http://yann.lecun.com/exdb/mnist/train-labels-idx1-ubyte.gz to /root/.pytorch/MNIST_data/MNIST/raw/train-labels-idx1-ubyte.gz\n",
            "Extracting /root/.pytorch/MNIST_data/MNIST/raw/train-labels-idx1-ubyte.gz\n",
            "Downloading http://yann.lecun.com/exdb/mnist/t10k-images-idx3-ubyte.gz to /root/.pytorch/MNIST_data/MNIST/raw/t10k-images-idx3-ubyte.gz\n"
          ],
          "name": "stdout"
        },
        {
          "output_type": "stream",
          "text": [
            "1654784it [00:00, 5149993.73it/s]                           \n",
            "8192it [00:00, 126765.78it/s]\n"
          ],
          "name": "stderr"
        },
        {
          "output_type": "stream",
          "text": [
            "Extracting /root/.pytorch/MNIST_data/MNIST/raw/t10k-images-idx3-ubyte.gz\n",
            "Downloading http://yann.lecun.com/exdb/mnist/t10k-labels-idx1-ubyte.gz to /root/.pytorch/MNIST_data/MNIST/raw/t10k-labels-idx1-ubyte.gz\n",
            "Extracting /root/.pytorch/MNIST_data/MNIST/raw/t10k-labels-idx1-ubyte.gz\n",
            "Processing...\n",
            "Done!\n"
          ],
          "name": "stdout"
        }
      ]
    },
    {
      "cell_type": "markdown",
      "metadata": {
        "id": "pRZ3WyFKWWLg",
        "colab_type": "text"
      },
      "source": [
        "We have the training data loaded into `trainloader` and we make that an iterator with `iter(trainloader)`. Later, we'll use this to loop through the dataset for training, like\n",
        "\n",
        "```python\n",
        "for image, label in trainloader:\n",
        "    ## do things with images and labels\n",
        "```\n",
        "\n",
        "You'll notice I created the `trainloader` with a batch size of 64, and `shuffle=True`. The batch size is the number of images we get in one iteration from the data loader and pass through our network, often called a *batch*. And `shuffle=True` tells it to shuffle the dataset every time we start going through the data loader again. But here I'm just grabbing the first batch so we can check out the data. We can see below that `images` is just a tensor with size `(64, 1, 28, 28)`. So, 64 images per batch, 1 color channel, and 28x28 images."
      ]
    },
    {
      "cell_type": "code",
      "metadata": {
        "id": "bdZA0HfCWWLh",
        "colab_type": "code",
        "outputId": "bf57ce04-dfe5-4189-8a4f-6ac8edd79986",
        "colab": {
          "base_uri": "https://localhost:8080/",
          "height": 68
        }
      },
      "source": [
        "dataiter = iter(trainloader)\n",
        "images, labels = dataiter.next()\n",
        "print(type(images))\n",
        "print(images.shape)\n",
        "print(labels.shape)"
      ],
      "execution_count": 3,
      "outputs": [
        {
          "output_type": "stream",
          "text": [
            "<class 'torch.Tensor'>\n",
            "torch.Size([64, 1, 28, 28])\n",
            "torch.Size([64])\n"
          ],
          "name": "stdout"
        }
      ]
    },
    {
      "cell_type": "markdown",
      "metadata": {
        "id": "paT-pAh1WWLj",
        "colab_type": "text"
      },
      "source": [
        "This is what one of the images looks like. "
      ]
    },
    {
      "cell_type": "code",
      "metadata": {
        "id": "rdzmsAm9WWLk",
        "colab_type": "code",
        "outputId": "0666401e-874e-453b-ffe6-e1e0ed8b0a60",
        "colab": {
          "base_uri": "https://localhost:8080/",
          "height": 267
        }
      },
      "source": [
        "plt.imshow(images[1].numpy().squeeze(), cmap='Greys_r');"
      ],
      "execution_count": 4,
      "outputs": [
        {
          "output_type": "display_data",
          "data": {
            "image/png": "[encoded data removed]",
            "text/plain": [
              "<Figure size 432x288 with 1 Axes>"
            ]
          },
          "metadata": {
            "tags": [],
            "image/png": {
              "width": 253,
              "height": 250
            }
          }
        }
      ]
    },
    {
      "cell_type": "markdown",
      "metadata": {
        "id": "vfCMgNm3WWLo",
        "colab_type": "text"
      },
      "source": [
        "First, let's try to build a simple network for this dataset using weight matrices and matrix multiplications. Then, we'll see how to do it using PyTorch's `nn` module which provides a much more convenient and powerful method for defining network architectures.\n",
        "\n",
        "The networks you've seen so far are called *fully-connected* or *dense* networks. Each unit in one layer is connected to each unit in the next layer. In fully-connected networks, the input to each layer must be a one-dimensional vector (which can be stacked into a 2D tensor as a batch of multiple examples). However, our images are 28x28 2D tensors, so we need to convert them into 1D vectors. Thinking about sizes, we need to convert the batch of images with shape `(64, 1, 28, 28)` to a have a shape of `(64, 784)`, 784 is 28 times 28. This is typically called *flattening*, we flattened the 2D images into 1D vectors.\n",
        "\n",
        "Previously you built a network with one output unit. Here we need 10 output units, one for each digit. We want our network to predict the digit shown in an image, so what we'll do is calculate probabilities that the image is of any one digit or class. This ends up being a discrete probability distribution over the classes (digits) that tells us the most likely class for the image. That means we need 10 output units for the 10 classes (digits). We'll see how to convert the network output into a probability distribution next.\n",
        "\n",
        "> **Exercise:** Flatten the batch of images `images`. Then build a multi-layer network with 784 input units, 256 hidden units, and 10 output units using random tensors for the weights and biases. For now, use a sigmoid activation for the hidden layer. Leave the output layer without an activation, we'll add one that gives us a probability distribution next."
      ]
    },
    {
      "cell_type": "code",
      "metadata": {
        "id": "i2NjOk2wWWLp",
        "colab_type": "code",
        "outputId": "40eac925-a2cd-49d7-a4bf-1a4ad69b9cc2",
        "colab": {
          "base_uri": "https://localhost:8080/",
          "height": 2210
        }
      },
      "source": [
        "## Your solution\n",
        "\n",
        "def activation(x):\n",
        "    return 1/(1+torch.exp(-x))\n",
        "\n",
        "inputs = images.view(images.shape[0], -1)\n",
        "print(inputs.size())        # 28x28 = 784   mean 1 image have 784 input from flatten\n",
        "\n",
        "w1 = torch.randn(784, 256)  # 784 input units, 256 hidden units\n",
        "b1 = torch.randn(256)       # bias = hidden units\n",
        "\n",
        "w2 = torch.randn(256, 10)   # 256 hidden units, 10 output units \n",
        "b2 = torch.randn(10)        # bias = output\n",
        "\n",
        "h = activation(torch.mm(inputs, w1) + b1)\n",
        "\n",
        "out = torch.mm(h, w2) + b2 # output of your network, should have shape (64,10)\n",
        "out.shape\n",
        "print(out)"
      ],
      "execution_count": 5,
      "outputs": [
        {
          "output_type": "stream",
          "text": [
            "torch.Size([64, 784])\n",
            "tensor([[-3.6116e+00, -1.9754e+01,  4.2957e+00, -5.8869e+00, -8.3998e+00,\n",
            "         -9.2758e+00,  6.5045e+00, -1.1950e+01, -1.3349e+01,  3.0152e+01],\n",
            "        [ 4.4793e+00, -1.9276e+01,  3.7731e+00, -7.2034e+00, -6.8735e+00,\n",
            "         -1.6390e+01,  4.1921e+00, -1.2709e+01, -5.3333e+00,  2.2376e+01],\n",
            "        [ 2.9463e+00, -3.0780e+01,  9.9922e+00, -4.3952e+00, -1.2600e+01,\n",
            "         -1.0406e+01,  1.4910e+01, -1.1711e+01, -1.4118e+01,  2.5198e+01],\n",
            "        [-8.4939e+00, -3.2984e+01,  8.0454e+00, -1.0443e+00, -4.8061e+00,\n",
            "         -4.1067e+00,  8.9692e+00, -2.1017e+01, -5.3832e+00,  2.6978e+01],\n",
            "        [ 5.6508e+00, -1.7410e+01, -5.9716e-01, -2.1963e+00, -8.7770e+00,\n",
            "         -3.8469e+00,  1.1910e+01,  5.6889e-01, -7.3792e+00,  2.3628e+01],\n",
            "        [ 7.3754e+00, -1.7417e+01,  2.0718e+00, -3.5318e+00, -9.2364e+00,\n",
            "         -4.9504e+00,  1.0740e+01, -1.2874e+01, -1.7486e+01,  3.0650e+01],\n",
            "        [ 3.4171e+00, -2.0564e+01,  1.5565e+00,  4.4100e+00, -1.1563e+01,\n",
            "         -7.7958e+00,  6.7467e+00, -1.0849e+01, -1.3967e+01,  2.0748e+01],\n",
            "        [-3.0212e-01, -1.5669e+01,  3.3406e+00, -3.2138e+00, -1.6772e+01,\n",
            "          3.9916e+00,  6.8536e+00, -1.9429e+01, -1.9013e+01,  2.0669e+01],\n",
            "        [ 5.2267e+00, -2.1235e+01,  5.0157e+00, -7.3536e+00, -1.2111e+01,\n",
            "         -6.5286e+00,  6.2430e+00, -1.3932e+01, -6.5761e+00,  2.3702e+01],\n",
            "        [-4.4332e+00, -1.5664e+01,  7.8604e+00, -6.2846e+00, -1.0397e+01,\n",
            "         -7.7149e+00,  5.7646e+00, -1.3865e+01, -1.0082e+01,  2.5959e+01],\n",
            "        [-4.8703e+00, -6.9823e+00,  7.8484e+00, -1.9893e+00, -8.7119e+00,\n",
            "         -6.7499e+00,  1.7466e+01, -1.7425e+00, -3.2183e+00,  3.2033e+01],\n",
            "        [ 1.2936e+01, -1.5556e+01,  1.0817e+01, -4.9217e+00, -7.9352e+00,\n",
            "         -1.0613e+01, -1.4686e-01, -1.3582e+01, -7.2725e-01,  4.1261e+01],\n",
            "        [-3.9716e+00, -2.7061e+01,  3.8028e-01, -4.7625e+00, -9.0524e+00,\n",
            "         -1.4005e+01,  1.2883e+01, -1.4104e+01, -1.3693e+01,  3.3367e+01],\n",
            "        [ 2.4053e+00, -1.7860e+01,  1.4844e+01, -9.7497e-01, -1.6465e+01,\n",
            "         -4.6457e+00,  4.4712e+00, -1.2693e+01, -8.5532e+00,  2.7307e+01],\n",
            "        [-4.5286e+00, -1.7882e+01,  8.1978e+00,  1.8860e+00, -1.9013e+01,\n",
            "         -1.1363e+01,  5.2316e+00, -4.5190e+00, -7.2840e+00,  1.7104e+01],\n",
            "        [-4.5398e+00, -1.8545e+01,  8.3753e-02, -1.1311e+01, -1.5812e+01,\n",
            "         -8.4388e+00,  1.0897e+01, -1.2799e+01, -7.8594e+00,  2.4855e+01],\n",
            "        [ 7.5340e+00, -1.2726e+01,  1.0545e+01, -1.3179e+01, -7.0182e+00,\n",
            "         -8.4105e+00,  8.0791e+00, -2.6113e+00, -9.8428e+00,  3.2626e+01],\n",
            "        [ 3.8570e+00, -1.9755e+01,  4.5077e+00, -6.4399e+00, -1.2532e+01,\n",
            "         -1.1139e+01,  8.7298e+00, -9.1228e+00, -1.3438e+01,  3.2773e+01],\n",
            "        [-1.0161e+01, -3.1146e+01,  4.6514e+00, -4.2090e+00, -9.8958e+00,\n",
            "         -1.7055e+01,  1.0782e+01, -5.7038e+00, -1.1073e+01,  2.5386e+01],\n",
            "        [-6.2101e-01, -2.2864e+01,  8.0097e+00, -8.6879e+00, -1.0888e+01,\n",
            "         -5.2497e+00,  9.9244e+00, -1.1041e+01, -7.5655e+00,  2.6235e+01],\n",
            "        [-1.9749e+00, -2.1695e+01,  1.0181e-01,  2.1178e+00, -9.2141e-01,\n",
            "         -8.7848e-01,  1.1435e+01, -2.1926e+01, -4.3598e+00,  2.1557e+01],\n",
            "        [-3.3524e+00, -1.7532e+01,  1.2300e+01, -9.4010e+00, -2.3965e+01,\n",
            "         -1.9413e+01,  1.0957e+01, -1.2408e+01, -8.5839e+00,  3.1362e+01],\n",
            "        [-6.1229e-01, -1.2990e+01,  3.1074e-01, -9.4098e+00, -5.7331e+00,\n",
            "         -6.6388e+00, -3.5638e+00, -3.0900e+00, -6.0598e+00,  2.2933e+01],\n",
            "        [-1.0129e+01, -2.3895e+01,  8.5566e+00,  7.1631e-02, -1.5935e+01,\n",
            "         -7.7504e+00,  2.8248e+00, -7.9023e+00, -7.2846e+00,  1.3064e+01],\n",
            "        [-4.8202e+00, -2.0058e+01,  7.8899e+00, -6.3292e+00, -7.8105e+00,\n",
            "         -9.1459e+00,  3.4843e+00, -1.0443e+01, -1.1978e+01,  2.9948e+01],\n",
            "        [ 9.8897e-01, -2.2540e+01, -4.0593e+00, -1.1570e+01, -8.2038e+00,\n",
            "         -6.1195e+00,  5.5926e+00, -1.4147e+01, -7.0592e+00,  3.1493e+01],\n",
            "        [-1.6851e+00, -1.5123e+01,  2.8890e+00, -4.3182e+00, -9.6915e+00,\n",
            "         -8.9032e+00,  9.8782e+00, -1.0234e+01, -1.1993e+01,  2.6352e+01],\n",
            "        [-6.0102e+00, -1.5101e+01,  4.3865e+00, -4.0800e+00, -8.6644e+00,\n",
            "         -5.6466e+00,  8.6207e+00, -1.2666e+01, -1.2469e+00,  2.8757e+01],\n",
            "        [-2.4298e+00, -2.5582e+01, -2.8591e-01,  4.2000e+00, -9.9030e+00,\n",
            "         -8.8861e+00,  1.5895e+01, -9.8137e+00,  4.4172e+00,  2.6316e+01],\n",
            "        [-7.9247e-01, -2.1489e+01,  7.2034e+00, -7.9018e+00, -1.5113e+01,\n",
            "         -1.3429e+01,  1.2105e+01, -9.3723e+00, -1.4275e+01,  2.8997e+01],\n",
            "        [-2.9299e+00, -1.9980e+01, -4.4624e+00, -7.7647e+00, -1.2735e+01,\n",
            "         -2.4977e+00,  1.0826e+01, -1.5246e+01, -8.7964e+00,  2.9342e+01],\n",
            "        [-2.9313e+00, -2.5194e+01,  6.0094e+00, -2.3049e+00, -1.4027e+01,\n",
            "         -1.0682e+01,  2.0202e+00, -1.2066e+01, -7.4210e+00,  1.9351e+01],\n",
            "        [-1.1344e+01, -2.9224e+01,  6.3013e+00, -2.4567e+00, -1.5925e+01,\n",
            "         -2.1119e+01,  5.4586e+00, -5.8502e+00, -1.3282e+01,  2.4703e+01],\n",
            "        [ 8.7837e+00, -2.4546e+01,  6.8367e-01,  7.0929e+00, -7.9741e+00,\n",
            "         -1.3365e+01,  1.3381e+01, -1.3425e+01,  7.6379e-02,  3.4343e+01],\n",
            "        [ 7.2474e+00, -1.4085e+01,  7.2972e+00, -4.4711e+00, -5.6322e+00,\n",
            "         -1.7696e+01,  9.6051e+00, -4.6177e+00, -5.3122e+00,  2.9642e+01],\n",
            "        [ 1.8480e+00, -1.7641e+01,  5.7974e+00, -7.9163e+00, -4.6318e+00,\n",
            "         -6.7140e+00,  3.9501e+00, -3.5379e+00, -2.6297e+00,  2.7344e+01],\n",
            "        [ 6.6042e-01, -2.9982e+01,  1.2241e+01,  4.9926e-01, -1.9174e+01,\n",
            "         -7.7405e+00, -3.8521e-01, -6.0688e+00, -4.5099e+00,  2.5809e+01],\n",
            "        [-1.3699e+00, -2.9357e+01,  9.1200e-01, -5.9962e+00, -9.8825e+00,\n",
            "         -1.2186e+01,  8.9687e+00, -1.1837e+01, -1.1951e+01,  3.0832e+01],\n",
            "        [ 2.9107e+00, -1.1756e+01,  1.3177e+01, -4.3898e+00, -1.8082e+01,\n",
            "         -8.0956e+00,  5.1101e+00, -1.7115e+01, -4.1476e+00,  2.0154e+01],\n",
            "        [-7.7093e+00, -1.2574e+01, -6.9368e+00, -3.2333e+00, -1.0529e+01,\n",
            "         -5.8799e+00,  1.4308e+01, -6.8924e+00, -1.0971e+01,  2.9048e+01],\n",
            "        [-4.8545e+00, -2.0593e+01,  2.1827e+00, -9.9207e+00, -5.1148e+00,\n",
            "         -1.0680e+01,  4.6135e+00, -1.8127e+01, -7.4736e+00,  1.5071e+01],\n",
            "        [ 3.4601e+00, -2.0579e+01,  5.0411e+00,  7.0427e+00, -1.3045e+01,\n",
            "         -7.7021e+00,  3.2767e+00, -8.1529e+00, -2.9678e+00,  2.1782e+01],\n",
            "        [-4.3657e+00, -1.4481e+01,  6.6571e+00, -2.9960e+00, -8.2997e+00,\n",
            "         -1.0859e+01,  1.0041e+01, -1.4008e+01, -6.9010e+00,  3.5376e+01],\n",
            "        [ 2.1089e+00, -2.0902e+01,  3.6671e+00, -3.0850e+00, -1.2200e+01,\n",
            "         -1.1901e+01,  1.6284e+01, -3.8803e+00, -4.4117e+00,  3.0457e+01],\n",
            "        [-3.9226e+00, -6.3398e+00,  7.4071e+00, -3.3542e+00, -1.0392e+01,\n",
            "         -8.6316e+00,  3.8147e+00, -1.2047e+01, -5.8593e+00,  2.4927e+01],\n",
            "        [-7.3887e+00, -1.9110e+01, -4.7855e-01, -1.1717e+01, -1.5815e+01,\n",
            "         -8.2058e+00,  1.6695e+01, -1.9454e+01, -8.6563e+00,  3.4482e+01],\n",
            "        [-3.3788e+00, -1.6686e+01, -2.6694e+00, -2.2045e+00, -1.3613e+01,\n",
            "         -1.2986e+01,  7.2108e+00, -1.7488e+01, -1.2063e+01,  2.7379e+01],\n",
            "        [ 3.4249e+00, -2.2988e+01,  3.5467e+00,  1.1615e+01, -9.1375e+00,\n",
            "          3.7128e+00,  1.0820e+01, -1.1717e+01, -1.1260e+01,  1.9829e+01],\n",
            "        [-3.1306e+00, -2.4112e+01,  6.0585e+00, -1.9793e+00, -1.6269e+01,\n",
            "         -4.4885e+00,  1.2031e+01, -1.4206e+01, -6.8748e+00,  2.9052e+01],\n",
            "        [-4.8402e+00, -7.3228e+00,  2.6582e+00,  1.0841e+00, -1.7210e+01,\n",
            "         -1.8312e+01,  7.6300e+00, -7.4689e+00,  1.8001e+00,  1.8383e+01],\n",
            "        [-1.4852e+00, -2.0532e+01,  9.5461e+00, -9.8752e+00, -1.0972e+01,\n",
            "         -1.5618e-01,  2.0878e+00, -2.0312e+01, -6.3319e+00,  2.7110e+01],\n",
            "        [ 4.4939e+00, -1.0537e+01,  3.6442e+00,  1.6165e+00,  2.3888e+00,\n",
            "         -3.0547e+00,  9.5229e+00, -1.1256e+01, -1.0868e+01,  3.7292e+01],\n",
            "        [-8.3085e+00, -1.5203e+01,  6.9437e+00, -2.2626e+00, -1.0017e+01,\n",
            "         -1.0936e+01,  1.1321e+01, -9.1856e+00, -1.2493e+01,  3.2752e+01],\n",
            "        [-9.9006e-01, -1.6616e+01,  1.0379e+01, -2.8068e+00, -1.1912e+01,\n",
            "         -7.3251e+00,  1.2565e+01, -1.8527e+01, -9.2337e+00,  3.2076e+01],\n",
            "        [-6.1124e+00, -2.0095e+01,  7.0651e+00,  1.1971e+00, -1.1529e+01,\n",
            "         -1.5431e+01,  5.2077e+00, -1.1078e+01, -1.2344e+01,  3.2131e+01],\n",
            "        [ 4.6694e+00, -1.8615e+01, -1.3330e-01,  1.3976e+00, -1.2334e+01,\n",
            "         -1.3327e+01, -3.7738e+00, -1.2238e+01, -5.0884e+00,  3.1923e+01],\n",
            "        [-2.4811e+00, -1.7787e+01,  9.7959e+00, -1.1960e+01, -2.0259e+01,\n",
            "         -5.7578e+00,  1.0667e+01, -1.3631e+01, -1.5148e+01,  3.6014e+01],\n",
            "        [ 5.9092e+00, -2.1243e+01,  6.1144e+00, -3.3660e+00, -1.2346e+01,\n",
            "         -1.0506e+01,  5.6203e+00, -6.8924e+00, -7.0456e+00,  4.1940e+01],\n",
            "        [ 3.3155e+00, -1.6592e+01, -4.4883e+00, -1.9248e-02, -6.2620e+00,\n",
            "         -3.8318e+00,  8.9855e+00, -8.4706e+00,  1.2920e+00,  2.2214e+01],\n",
            "        [ 2.0189e+00, -1.6217e+01,  8.0640e+00, -1.3574e+01, -1.2558e+01,\n",
            "         -9.7788e+00,  1.3112e+01, -5.4015e+00, -6.4776e+00,  3.3651e+01],\n",
            "        [-2.9640e+00, -1.2994e+01,  4.6862e+00, -1.2246e+01, -1.6439e+01,\n",
            "         -3.6455e+00,  1.5174e+01, -1.1934e+01, -7.0284e+00,  3.7500e+01],\n",
            "        [ 1.2676e+01, -1.0396e+01,  3.3758e+00,  4.4702e+00, -1.0115e+01,\n",
            "         -8.6890e+00,  3.2542e+00, -8.7034e+00, -4.9952e+00,  2.2653e+01],\n",
            "        [ 8.0391e+00, -1.9610e+01,  3.9929e+00, -3.8992e+00, -6.2584e+00,\n",
            "         -1.3038e+01,  6.8008e+00, -7.1939e+00, -6.4442e+00,  2.4475e+01],\n",
            "        [-7.3371e-02, -1.8053e+01,  8.4576e+00, -6.9199e+00, -6.5509e+00,\n",
            "         -1.2020e+01,  6.7334e+00, -2.2511e+01, -1.0117e+01,  2.9602e+01]])\n"
          ],
          "name": "stdout"
        }
      ]
    },
    {
      "cell_type": "markdown",
      "metadata": {
        "id": "68qdmCtEWWLs",
        "colab_type": "text"
      },
      "source": [
        "Now we have 10 outputs for our network. We want to pass in an image to our network and get out a probability distribution over the classes that tells us the likely class(es) the image belongs to. Something that looks like this:\n",
        "<img src='assets/image_distribution.png' width=500px>\n",
        "\n",
        "Here we see that the probability for each class is roughly the same. This is representing an untrained network, it hasn't seen any data yet so it just returns a uniform distribution with equal probabilities for each class.\n",
        "\n",
        "To calculate this probability distribution, we often use the [**softmax** function](https://en.wikipedia.org/wiki/Softmax_function). Mathematically this looks like\n",
        "\n",
        "$$\n",
        "\\Large \\sigma(x_i) = \\cfrac{e^{x_i}}{\\sum_k^K{e^{x_k}}}\n",
        "$$\n",
        "\n",
        "What this does is squish each input $x_i$ between 0 and 1 and normalizes the values to give you a proper probability distribution where the probabilites sum up to one.\n",
        "\n",
        "> **Exercise:** Implement a function `softmax` that performs the softmax calculation and returns probability distributions for each example in the batch. Note that you'll need to pay attention to the shapes when doing this. If you have a tensor `a` with shape `(64, 10)` and a tensor `b` with shape `(64,)`, doing `a/b` will give you an error because PyTorch will try to do the division across the columns (called broadcasting) but you'll get a size mismatch. The way to think about this is for each of the 64 examples, you only want to divide by one value, the sum in the denominator. So you need `b` to have a shape of `(64, 1)`. This way PyTorch will divide the 10 values in each row of `a` by the one value in each row of `b`. Pay attention to how you take the sum as well. You'll need to define the `dim` keyword in `torch.sum`. Setting `dim=0` takes the sum across the rows while `dim=1` takes the sum across the columns."
      ]
    },
    {
      "cell_type": "code",
      "metadata": {
        "id": "DvPGkHvpWWLt",
        "colab_type": "code",
        "outputId": "926480da-5773-44fa-97ef-0fa3402ca1fa",
        "colab": {
          "base_uri": "https://localhost:8080/",
          "height": 170
        }
      },
      "source": [
        "def softmax(x):\n",
        "    ## TODO: Implement the softmax function here\n",
        "    return torch.exp(x)/torch.sum(torch.exp(x), dim=1).view(-1,1)\n",
        "\n",
        "# Here, out should be the output of the network in the previous excercise with shape (64,10)\n",
        "probabilities = softmax(out)\n",
        "\n",
        "# Does it have the right shape? Should be (64, 10)\n",
        "print(probabilities.shape)\n",
        "# Does it sum to 1?\n",
        "print(probabilities.sum(dim=1))"
      ],
      "execution_count": 6,
      "outputs": [
        {
          "output_type": "stream",
          "text": [
            "torch.Size([64, 10])\n",
            "tensor([1.0000, 1.0000, 1.0000, 1.0000, 1.0000, 1.0000, 1.0000, 1.0000, 1.0000,\n",
            "        1.0000, 1.0000, 1.0000, 1.0000, 1.0000, 1.0000, 1.0000, 1.0000, 1.0000,\n",
            "        1.0000, 1.0000, 1.0000, 1.0000, 1.0000, 1.0000, 1.0000, 1.0000, 1.0000,\n",
            "        1.0000, 1.0000, 1.0000, 1.0000, 1.0000, 1.0000, 1.0000, 1.0000, 1.0000,\n",
            "        1.0000, 1.0000, 1.0000, 1.0000, 1.0000, 1.0000, 1.0000, 1.0000, 1.0000,\n",
            "        1.0000, 1.0000, 1.0000, 1.0000, 1.0000, 1.0000, 1.0000, 1.0000, 1.0000,\n",
            "        1.0000, 1.0000, 1.0000, 1.0000, 1.0000, 1.0000, 1.0000, 1.0000, 1.0000,\n",
            "        1.0000])\n"
          ],
          "name": "stdout"
        }
      ]
    },
    {
      "cell_type": "markdown",
      "metadata": {
        "id": "4HT3ku2kWWLv",
        "colab_type": "text"
      },
      "source": [
        "## Building networks with PyTorch\n",
        "\n",
        "PyTorch provides a module `nn` that makes building networks much simpler. Here I'll show you how to build the same one as above with 784 inputs, 256 hidden units, 10 output units and a softmax output."
      ]
    },
    {
      "cell_type": "code",
      "metadata": {
        "id": "EKlIPCrpWWLx",
        "colab_type": "code",
        "colab": {}
      },
      "source": [
        "from torch import nn"
      ],
      "execution_count": 0,
      "outputs": []
    },
    {
      "cell_type": "code",
      "metadata": {
        "id": "zkWQ7OqtWWL1",
        "colab_type": "code",
        "colab": {}
      },
      "source": [
        "class Network(nn.Module):\n",
        "    def __init__(self):\n",
        "        super().__init__()\n",
        "        \n",
        "        # Inputs to hidden layer linear transformation\n",
        "        self.hidden = nn.Linear(784, 256)\n",
        "        # Output layer, 10 units - one for each digit\n",
        "        self.output = nn.Linear(256, 10)\n",
        "        \n",
        "        # Define sigmoid activation and softmax output \n",
        "        self.sigmoid = nn.Sigmoid()\n",
        "        self.softmax = nn.Softmax(dim=1)\n",
        "        \n",
        "    def forward(self, x):\n",
        "        # Pass the input tensor through each of our operations\n",
        "        x = self.hidden(x)\n",
        "        x = self.sigmoid(x)\n",
        "        x = self.output(x)\n",
        "        x = self.softmax(x)\n",
        "        \n",
        "        return x"
      ],
      "execution_count": 0,
      "outputs": []
    },
    {
      "cell_type": "markdown",
      "metadata": {
        "id": "BTK1Xd3zWWL4",
        "colab_type": "text"
      },
      "source": [
        "Let's go through this bit by bit.\n",
        "\n",
        "```python\n",
        "class Network(nn.Module):\n",
        "```\n",
        "\n",
        "Here we're inheriting from `nn.Module`. Combined with `super().__init__()` this creates a class that tracks the architecture and provides a lot of useful methods and attributes. It is mandatory to inherit from `nn.Module` when you're creating a class for your network. The name of the class itself can be anything.\n",
        "\n",
        "```python\n",
        "self.hidden = nn.Linear(784, 256)\n",
        "```\n",
        "\n",
        "This line creates a module for a linear transformation, $x\\mathbf{W} + b$, with 784 inputs and 256 outputs and assigns it to `self.hidden`. The module automatically creates the weight and bias tensors which we'll use in the `forward` method. You can access the weight and bias tensors once the network (`net`) is created with `net.hidden.weight` and `net.hidden.bias`.\n",
        "\n",
        "```python\n",
        "self.output = nn.Linear(256, 10)\n",
        "```\n",
        "\n",
        "Similarly, this creates another linear transformation with 256 inputs and 10 outputs.\n",
        "\n",
        "```python\n",
        "self.sigmoid = nn.Sigmoid()\n",
        "self.softmax = nn.Softmax(dim=1)\n",
        "```\n",
        "\n",
        "Here I defined operations for the sigmoid activation and softmax output. Setting `dim=1` in `nn.Softmax(dim=1)` calculates softmax across the columns.\n",
        "\n",
        "```python\n",
        "def forward(self, x):\n",
        "```\n",
        "\n",
        "PyTorch networks created with `nn.Module` must have a `forward` method defined. It takes in a tensor `x` and passes it through the operations you defined in the `__init__` method.\n",
        "\n",
        "```python\n",
        "x = self.hidden(x)\n",
        "x = self.sigmoid(x)\n",
        "x = self.output(x)\n",
        "x = self.softmax(x)\n",
        "```\n",
        "\n",
        "Here the input tensor `x` is passed through each operation and reassigned to `x`. We can see that the input tensor goes through the hidden layer, then a sigmoid function, then the output layer, and finally the softmax function. It doesn't matter what you name the variables here, as long as the inputs and outputs of the operations match the network architecture you want to build. The order in which you define things in the `__init__` method doesn't matter, but you'll need to sequence the operations correctly in the `forward` method.\n",
        "\n",
        "Now we can create a `Network` object."
      ]
    },
    {
      "cell_type": "code",
      "metadata": {
        "id": "zDSED1dWWWL5",
        "colab_type": "code",
        "colab": {
          "base_uri": "https://localhost:8080/",
          "height": 119
        },
        "outputId": "995e5230-85b0-4ecd-ca64-ec370157e8a2"
      },
      "source": [
        "# Create the network and look at it's text representation\n",
        "model = Network()\n",
        "model"
      ],
      "execution_count": 9,
      "outputs": [
        {
          "output_type": "execute_result",
          "data": {
            "text/plain": [
              "Network(\n",
              "  (hidden): Linear(in_features=784, out_features=256, bias=True)\n",
              "  (output): Linear(in_features=256, out_features=10, bias=True)\n",
              "  (sigmoid): Sigmoid()\n",
              "  (softmax): Softmax()\n",
              ")"
            ]
          },
          "metadata": {
            "tags": []
          },
          "execution_count": 9
        }
      ]
    },
    {
      "cell_type": "markdown",
      "metadata": {
        "id": "6eu73SBFWWL7",
        "colab_type": "text"
      },
      "source": [
        "You can define the network somewhat more concisely and clearly using the `torch.nn.functional` module. This is the most common way you'll see networks defined as many operations are simple element-wise functions. We normally import this module as `F`, `import torch.nn.functional as F`."
      ]
    },
    {
      "cell_type": "code",
      "metadata": {
        "id": "Ir_xl7FUWWL7",
        "colab_type": "code",
        "colab": {}
      },
      "source": [
        "import torch.nn.functional as F\n",
        "\n",
        "class Network(nn.Module):\n",
        "    def __init__(self):\n",
        "        super().__init__()\n",
        "        # Inputs to hidden layer linear transformation\n",
        "        self.hidden = nn.Linear(784, 256)\n",
        "        # Output layer, 10 units - one for each digit\n",
        "        self.output = nn.Linear(256, 10)\n",
        "        \n",
        "    def forward(self, x):\n",
        "        # Hidden layer with sigmoid activation\n",
        "        x = F.sigmoid(self.hidden(x))\n",
        "        # Output layer with softmax activation\n",
        "        x = F.softmax(self.output(x), dim=1)\n",
        "        \n",
        "        return x"
      ],
      "execution_count": 0,
      "outputs": []
    },
    {
      "cell_type": "markdown",
      "metadata": {
        "id": "Crqca5RsWWL9",
        "colab_type": "text"
      },
      "source": [
        "### Activation functions\n",
        "\n",
        "So far we've only been looking at the sigmoid activation function, but in general any function can be used as an activation function. The only requirement is that for a network to approximate a non-linear function, the activation functions must be non-linear. Here are a few more examples of common activation functions: Tanh (hyperbolic tangent), and ReLU (rectified linear unit).\n",
        "\n",
        "<img src=\"assets/activation.png\" width=700px>\n",
        "\n",
        "In practice, the ReLU function is used almost exclusively as the activation function for hidden layers."
      ]
    },
    {
      "cell_type": "markdown",
      "metadata": {
        "id": "Na2krnrWWWL-",
        "colab_type": "text"
      },
      "source": [
        "### Your Turn to Build a Network\n",
        "\n",
        "<img src=\"assets/mlp_mnist.png\" width=600px>\n",
        "\n",
        "> **Exercise:** Create a network with 784 input units, a hidden layer with 128 units and a ReLU activation, then a hidden layer with 64 units and a ReLU activation, and finally an output layer with a softmax activation as shown above. You can use a ReLU activation with the `nn.ReLU` module or `F.relu` function.\n",
        "\n",
        "It's good practice to name your layers by their type of network, for instance 'fc' to represent a fully-connected layer. As you code your solution, use `fc1`, `fc2`, and `fc3` as your layer names."
      ]
    },
    {
      "cell_type": "code",
      "metadata": {
        "scrolled": true,
        "id": "b7VEvB2_WWL_",
        "colab_type": "code",
        "colab": {}
      },
      "source": [
        "## Your solution here\n",
        "\n",
        "class ReLuNetwork(nn.Module):\n",
        "    def __init__(self):\n",
        "        super().__init__()\n",
        "        self.fc1 = nn.Linear(784, 128)\n",
        "        self.fc2 = nn.Linear(128, 64)\n",
        "        self.fc3 = nn.Linear(64, 10)\n",
        "        self.relu = nn.ReLU()\n",
        "        self.softmax = nn.Softmax(dim=1)\n",
        "        \n",
        "    def forward(self, x):\n",
        "        x = self.relu(self.fc1(x))\n",
        "        x = self.relu(self.fc2(x))\n",
        "        x = self.softmax(self.fc3(x))\n",
        "        \n",
        "        return x"
      ],
      "execution_count": 0,
      "outputs": []
    },
    {
      "cell_type": "code",
      "metadata": {
        "id": "OsbTPuWPMuZk",
        "colab_type": "code",
        "colab": {
          "base_uri": "https://localhost:8080/",
          "height": 136
        },
        "outputId": "e0a81495-1e19-46bf-cee4-0a6d182794bd"
      },
      "source": [
        "model = ReLuNetwork()\n",
        "print(model)"
      ],
      "execution_count": 13,
      "outputs": [
        {
          "output_type": "stream",
          "text": [
            "ReLuNetwork(\n",
            "  (fc1): Linear(in_features=784, out_features=128, bias=True)\n",
            "  (fc2): Linear(in_features=128, out_features=64, bias=True)\n",
            "  (fc3): Linear(in_features=64, out_features=10, bias=True)\n",
            "  (relu): ReLU()\n",
            "  (softmax): Softmax()\n",
            ")\n"
          ],
          "name": "stdout"
        }
      ]
    },
    {
      "cell_type": "markdown",
      "metadata": {
        "id": "gp53NbV5WWMC",
        "colab_type": "text"
      },
      "source": [
        "### Initializing weights and biases\n",
        "\n",
        "The weights and such are automatically initialized for you, but it's possible to customize how they are initialized. The weights and biases are tensors attached to the layer you defined, you can get them with `model.fc1.weight` for instance."
      ]
    },
    {
      "cell_type": "code",
      "metadata": {
        "id": "JfJQ9ah9WWMC",
        "colab_type": "code",
        "colab": {
          "base_uri": "https://localhost:8080/",
          "height": 629
        },
        "outputId": "1bbfa2fd-be2f-4923-8232-cf728ac5831b"
      },
      "source": [
        "print(model.fc1.weight)\n",
        "print(model.fc1.bias)"
      ],
      "execution_count": 14,
      "outputs": [
        {
          "output_type": "stream",
          "text": [
            "Parameter containing:\n",
            "tensor([[-0.0172,  0.0163,  0.0068,  ..., -0.0049,  0.0096, -0.0254],\n",
            "        [-0.0219, -0.0242, -0.0115,  ...,  0.0130,  0.0136, -0.0140],\n",
            "        [ 0.0238,  0.0081,  0.0340,  ..., -0.0209, -0.0197,  0.0157],\n",
            "        ...,\n",
            "        [-0.0283,  0.0319, -0.0005,  ...,  0.0015,  0.0282, -0.0218],\n",
            "        [ 0.0276, -0.0275, -0.0344,  ...,  0.0313,  0.0277,  0.0349],\n",
            "        [ 0.0205, -0.0351,  0.0039,  ..., -0.0082,  0.0064, -0.0317]],\n",
            "       requires_grad=True)\n",
            "Parameter containing:\n",
            "tensor([-2.3457e-02,  7.7933e-03,  7.6146e-03,  9.4554e-03, -1.1661e-02,\n",
            "         1.1653e-03, -1.2153e-02,  3.2752e-02,  3.1084e-02, -1.6928e-02,\n",
            "         6.7134e-03,  2.2493e-02,  3.0578e-02,  1.1218e-02,  3.1503e-02,\n",
            "         1.9816e-02,  1.0066e-02, -3.1677e-02,  1.1142e-02,  4.9878e-03,\n",
            "         1.7528e-02, -3.0593e-02, -3.1726e-02, -1.0437e-02,  3.0595e-02,\n",
            "         1.0384e-02, -4.8230e-04,  2.0699e-02,  2.6481e-02, -2.2347e-03,\n",
            "         1.6957e-02, -2.6424e-02,  2.2204e-02, -2.9201e-03,  1.1405e-02,\n",
            "        -3.1895e-02,  2.9827e-02,  2.1558e-02,  6.9026e-03,  8.8872e-03,\n",
            "        -2.1154e-02, -2.2847e-02,  1.0687e-02, -4.0228e-03,  3.5597e-02,\n",
            "         2.5788e-04,  8.6329e-03, -6.2391e-03,  2.3504e-02, -3.6915e-03,\n",
            "        -9.0050e-03,  3.1076e-02,  1.3924e-03, -3.3325e-02,  2.7781e-02,\n",
            "        -1.3308e-02, -2.7269e-02,  1.9416e-02, -5.8961e-03,  7.0092e-04,\n",
            "         1.7198e-02,  2.4090e-02,  3.4786e-02,  2.5633e-02, -7.1367e-03,\n",
            "        -1.9259e-02,  2.1181e-02,  2.0628e-02,  3.5274e-02,  1.7398e-02,\n",
            "        -2.8739e-02,  8.6597e-03,  1.3761e-02,  5.7965e-03, -1.9515e-02,\n",
            "         2.9217e-02,  2.9555e-02, -8.2992e-05,  3.4662e-02,  6.8669e-03,\n",
            "         1.7539e-02, -1.2580e-02, -2.4164e-02,  1.2670e-02,  5.1910e-03,\n",
            "        -3.0379e-02,  2.4898e-02, -4.8784e-03,  2.6678e-03, -2.4793e-02,\n",
            "         2.0493e-02,  1.3076e-02,  3.0165e-02, -1.4149e-03,  1.0973e-02,\n",
            "        -2.0637e-02,  2.1728e-02, -1.8553e-02, -2.0131e-02,  2.6664e-02,\n",
            "         1.8383e-02,  3.3540e-02, -3.3052e-02, -2.7168e-02, -1.5352e-02,\n",
            "        -9.4626e-03, -1.3596e-02, -2.1142e-02, -1.3092e-02, -2.4966e-02,\n",
            "        -1.4568e-02, -5.3338e-03,  7.1995e-03,  5.9753e-03, -3.1788e-02,\n",
            "         2.0704e-02,  1.2113e-02,  1.6874e-02,  4.0444e-03, -1.9305e-02,\n",
            "         3.8192e-04, -2.7988e-02,  2.0725e-02, -1.6075e-02,  2.1238e-02,\n",
            "        -1.0182e-02, -2.3406e-02, -7.1501e-03], requires_grad=True)\n"
          ],
          "name": "stdout"
        }
      ]
    },
    {
      "cell_type": "markdown",
      "metadata": {
        "id": "OiWZDiczWWME",
        "colab_type": "text"
      },
      "source": [
        "For custom initialization, we want to modify these tensors in place. These are actually autograd *Variables*, so we need to get back the actual tensors with `model.fc1.weight.data`. Once we have the tensors, we can fill them with zeros (for biases) or random normal values."
      ]
    },
    {
      "cell_type": "code",
      "metadata": {
        "id": "iYa4QfyQWWMF",
        "colab_type": "code",
        "colab": {
          "base_uri": "https://localhost:8080/",
          "height": 119
        },
        "outputId": "b6be9019-9efc-41d9-bac3-dd11cd02af5a"
      },
      "source": [
        "# Set biases to all zeros\n",
        "model.fc1.bias.data.fill_(0)"
      ],
      "execution_count": 15,
      "outputs": [
        {
          "output_type": "execute_result",
          "data": {
            "text/plain": [
              "tensor([0., 0., 0., 0., 0., 0., 0., 0., 0., 0., 0., 0., 0., 0., 0., 0., 0., 0., 0., 0., 0., 0., 0., 0.,\n",
              "        0., 0., 0., 0., 0., 0., 0., 0., 0., 0., 0., 0., 0., 0., 0., 0., 0., 0., 0., 0., 0., 0., 0., 0.,\n",
              "        0., 0., 0., 0., 0., 0., 0., 0., 0., 0., 0., 0., 0., 0., 0., 0., 0., 0., 0., 0., 0., 0., 0., 0.,\n",
              "        0., 0., 0., 0., 0., 0., 0., 0., 0., 0., 0., 0., 0., 0., 0., 0., 0., 0., 0., 0., 0., 0., 0., 0.,\n",
              "        0., 0., 0., 0., 0., 0., 0., 0., 0., 0., 0., 0., 0., 0., 0., 0., 0., 0., 0., 0., 0., 0., 0., 0.,\n",
              "        0., 0., 0., 0., 0., 0., 0., 0.])"
            ]
          },
          "metadata": {
            "tags": []
          },
          "execution_count": 15
        }
      ]
    },
    {
      "cell_type": "code",
      "metadata": {
        "id": "8LY9lJCgWWMH",
        "colab_type": "code",
        "colab": {
          "base_uri": "https://localhost:8080/",
          "height": 238
        },
        "outputId": "442c05ba-3971-41e3-cc05-5c9fc4d0f0c7"
      },
      "source": [
        "# sample from random normal with standard dev = 0.01\n",
        "model.fc1.weight.data.normal_(std=0.01)"
      ],
      "execution_count": 16,
      "outputs": [
        {
          "output_type": "execute_result",
          "data": {
            "text/plain": [
              "tensor([[ 9.2945e-03,  6.7700e-04,  7.8080e-03,  ..., -3.4126e-04,\n",
              "          1.0317e-02, -9.4485e-03],\n",
              "        [ 5.0636e-03, -2.9713e-03,  2.8533e-03,  ..., -2.4403e-02,\n",
              "         -4.6747e-03, -2.0798e-02],\n",
              "        [-3.2549e-04,  1.2598e-02,  6.9249e-03,  ...,  3.3028e-03,\n",
              "          8.8653e-04, -8.2039e-03],\n",
              "        ...,\n",
              "        [ 5.9906e-03, -4.7725e-04,  3.8237e-03,  ...,  1.3396e-02,\n",
              "          7.4926e-03, -1.4141e-02],\n",
              "        [-6.5093e-03,  3.3893e-03, -6.8936e-03,  ..., -1.5086e-03,\n",
              "         -1.3078e-02, -4.8781e-03],\n",
              "        [-4.7808e-03,  1.7938e-02, -8.4901e-03,  ...,  2.4744e-03,\n",
              "          4.6523e-05,  1.4852e-02]])"
            ]
          },
          "metadata": {
            "tags": []
          },
          "execution_count": 16
        }
      ]
    },
    {
      "cell_type": "markdown",
      "metadata": {
        "id": "9kdc7u4bWWML",
        "colab_type": "text"
      },
      "source": [
        "### Forward pass\n",
        "\n",
        "Now that we have a network, let's see what happens when we pass in an image."
      ]
    },
    {
      "cell_type": "code",
      "metadata": {
        "id": "hB0A78orP5ez",
        "colab_type": "code",
        "colab": {}
      },
      "source": [
        "from lib import helper"
      ],
      "execution_count": 0,
      "outputs": []
    },
    {
      "cell_type": "code",
      "metadata": {
        "id": "zLE6SQItWWMN",
        "colab_type": "code",
        "colab": {
          "base_uri": "https://localhost:8080/",
          "height": 243
        },
        "outputId": "e6da00bf-5652-4ab7-dc77-e9cb934a8ace"
      },
      "source": [
        "# Grab some data \n",
        "dataiter = iter(trainloader)\n",
        "images, labels = dataiter.next()\n",
        "\n",
        "# Resize images into a 1D vector, new shape is (batch size, color channels, image pixels) \n",
        "images.resize_(64, 1, 784)\n",
        "# or images.resize_(images.shape[0], 1, 784) to automatically get batch size\n",
        "\n",
        "# Forward pass through the network\n",
        "img_idx = 0\n",
        "ps = model.forward(images[img_idx,:])\n",
        "\n",
        "img = images[img_idx]\n",
        "helper.view_classify(img.view(1, 28, 28), ps)"
      ],
      "execution_count": 40,
      "outputs": [
        {
          "output_type": "display_data",
          "data": {
            "image/png": "[encoded data removed]",
            "text/plain": [
              "<Figure size 432x648 with 2 Axes>"
            ]
          },
          "metadata": {
            "tags": [],
            "image/png": {
              "width": 423,
              "height": 226
            }
          }
        }
      ]
    },
    {
      "cell_type": "markdown",
      "metadata": {
        "id": "120HNLZkWWMR",
        "colab_type": "text"
      },
      "source": [
        "As you can see above, our network has basically no idea what this digit is. It's because we haven't trained it yet, all the weights are random!\n",
        "\n",
        "### Using `nn.Sequential`\n",
        "\n",
        "PyTorch provides a convenient way to build networks like this where a tensor is passed sequentially through operations, `nn.Sequential` ([documentation](https://pytorch.org/docs/master/nn.html#torch.nn.Sequential)). Using this to build the equivalent network:"
      ]
    },
    {
      "cell_type": "code",
      "metadata": {
        "id": "CLjswRppWWMS",
        "colab_type": "code",
        "colab": {
          "base_uri": "https://localhost:8080/",
          "height": 379
        },
        "outputId": "329eb052-2a35-46bb-92e0-64c111657d68"
      },
      "source": [
        "# Hyperparameters for our network\n",
        "input_size = 784\n",
        "hidden_sizes = [128, 64]\n",
        "output_size = 10\n",
        "\n",
        "# Build a feed-forward network\n",
        "model = nn.Sequential(nn.Linear(input_size, hidden_sizes[0]),\n",
        "                      nn.ReLU(),\n",
        "                      nn.Linear(hidden_sizes[0], hidden_sizes[1]),\n",
        "                      nn.ReLU(),\n",
        "                      nn.Linear(hidden_sizes[1], output_size),\n",
        "                      nn.Softmax(dim=1))\n",
        "print(model)\n",
        "\n",
        "# Forward pass through the network and display output\n",
        "images, labels = next(iter(trainloader))\n",
        "images.resize_(images.shape[0], 1, 784)\n",
        "ps = model.forward(images[0,:])\n",
        "helper.view_classify(images[0].view(1, 28, 28), ps)"
      ],
      "execution_count": 41,
      "outputs": [
        {
          "output_type": "stream",
          "text": [
            "Sequential(\n",
            "  (0): Linear(in_features=784, out_features=128, bias=True)\n",
            "  (1): ReLU()\n",
            "  (2): Linear(in_features=128, out_features=64, bias=True)\n",
            "  (3): ReLU()\n",
            "  (4): Linear(in_features=64, out_features=10, bias=True)\n",
            "  (5): Softmax()\n",
            ")\n"
          ],
          "name": "stdout"
        },
        {
          "output_type": "display_data",
          "data": {
            "image/png": "[encoded data removed]",
            "text/plain": [
              "<Figure size 432x648 with 2 Axes>"
            ]
          },
          "metadata": {
            "tags": [],
            "image/png": {
              "width": 423,
              "height": 226
            }
          }
        }
      ]
    },
    {
      "cell_type": "markdown",
      "metadata": {
        "id": "a_UoXJxkWWMV",
        "colab_type": "text"
      },
      "source": [
        "Here our model is the same as before: 784 input units, a hidden layer with 128 units, ReLU activation, 64 unit hidden layer, another ReLU, then the output layer with 10 units, and the softmax output.\n",
        "\n",
        "The operations are available by passing in the appropriate index. For example, if you want to get first Linear operation and look at the weights, you'd use `model[0]`."
      ]
    },
    {
      "cell_type": "code",
      "metadata": {
        "id": "2iD8BMpFWWMW",
        "colab_type": "code",
        "colab": {
          "base_uri": "https://localhost:8080/",
          "height": 187
        },
        "outputId": "89680d5c-c0ff-4adb-b865-b74e7c0c83fc"
      },
      "source": [
        "print(model[0])\n",
        "model[0].weight"
      ],
      "execution_count": 42,
      "outputs": [
        {
          "output_type": "stream",
          "text": [
            "Linear(in_features=784, out_features=128, bias=True)\n"
          ],
          "name": "stdout"
        },
        {
          "output_type": "execute_result",
          "data": {
            "text/plain": [
              "Parameter containing:\n",
              "tensor([[ 0.0339, -0.0060, -0.0278,  ..., -0.0352, -0.0313,  0.0019],\n",
              "        [ 0.0272,  0.0188, -0.0141,  ..., -0.0150, -0.0097,  0.0347],\n",
              "        [ 0.0302,  0.0225,  0.0035,  ...,  0.0032,  0.0306, -0.0101],\n",
              "        ...,\n",
              "        [-0.0356, -0.0137, -0.0021,  ...,  0.0324,  0.0339,  0.0226],\n",
              "        [-0.0309,  0.0053,  0.0244,  ...,  0.0308, -0.0307, -0.0081],\n",
              "        [ 0.0028,  0.0348, -0.0324,  ..., -0.0017,  0.0332, -0.0030]],\n",
              "       requires_grad=True)"
            ]
          },
          "metadata": {
            "tags": []
          },
          "execution_count": 42
        }
      ]
    },
    {
      "cell_type": "markdown",
      "metadata": {
        "id": "hgYMvjk1WWMZ",
        "colab_type": "text"
      },
      "source": [
        "You can also pass in an `OrderedDict` to name the individual layers and operations, instead of using incremental integers. Note that dictionary keys must be unique, so _each operation must have a different name_."
      ]
    },
    {
      "cell_type": "code",
      "metadata": {
        "id": "JhjHJ5XLWWMa",
        "colab_type": "code",
        "colab": {
          "base_uri": "https://localhost:8080/",
          "height": 153
        },
        "outputId": "b3bc915e-683d-4755-ef22-3d508b74f09a"
      },
      "source": [
        "from collections import OrderedDict\n",
        "model = nn.Sequential(OrderedDict([\n",
        "                      ('fc1', nn.Linear(input_size, hidden_sizes[0])),\n",
        "                      ('relu1', nn.ReLU()),\n",
        "                      ('fc2', nn.Linear(hidden_sizes[0], hidden_sizes[1])),\n",
        "                      ('relu2', nn.ReLU()),\n",
        "                      ('output', nn.Linear(hidden_sizes[1], output_size)),\n",
        "                      ('softmax', nn.Softmax(dim=1))]))\n",
        "model"
      ],
      "execution_count": 43,
      "outputs": [
        {
          "output_type": "execute_result",
          "data": {
            "text/plain": [
              "Sequential(\n",
              "  (fc1): Linear(in_features=784, out_features=128, bias=True)\n",
              "  (relu1): ReLU()\n",
              "  (fc2): Linear(in_features=128, out_features=64, bias=True)\n",
              "  (relu2): ReLU()\n",
              "  (output): Linear(in_features=64, out_features=10, bias=True)\n",
              "  (softmax): Softmax()\n",
              ")"
            ]
          },
          "metadata": {
            "tags": []
          },
          "execution_count": 43
        }
      ]
    },
    {
      "cell_type": "markdown",
      "metadata": {
        "id": "Yqmzsx8JWWMf",
        "colab_type": "text"
      },
      "source": [
        "Now you can access layers either by integer or the name"
      ]
    },
    {
      "cell_type": "code",
      "metadata": {
        "id": "1fO4HdmOWWMf",
        "colab_type": "code",
        "colab": {
          "base_uri": "https://localhost:8080/",
          "height": 51
        },
        "outputId": "590da9d9-614e-4a5c-e260-77b073962df2"
      },
      "source": [
        "print(model[0])\n",
        "print(model.fc1)"
      ],
      "execution_count": 44,
      "outputs": [
        {
          "output_type": "stream",
          "text": [
            "Linear(in_features=784, out_features=128, bias=True)\n",
            "Linear(in_features=784, out_features=128, bias=True)\n"
          ],
          "name": "stdout"
        }
      ]
    },
    {
      "cell_type": "markdown",
      "metadata": {
        "id": "tYGUpd5lWWMh",
        "colab_type": "text"
      },
      "source": [
        "In the next notebook, we'll see how we can train a neural network to accuractly predict the numbers appearing in the MNIST images."
      ]
    }
  ]
}