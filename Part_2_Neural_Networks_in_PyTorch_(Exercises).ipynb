{
  "nbformat": 4,
  "nbformat_minor": 0,
  "metadata": {
    "colab": {
      "name": "Part 2 - Neural Networks in PyTorch (Exercises).ipynb",
      "version": "0.3.2",
      "provenance": [],
      "collapsed_sections": [],
      "include_colab_link": true
    },
    "language_info": {
      "codemirror_mode": {
        "name": "ipython",
        "version": 3
      },
      "file_extension": ".py",
      "mimetype": "text/x-python",
      "name": "python",
      "nbconvert_exporter": "python",
      "pygments_lexer": "ipython3",
      "version": "3.6.4"
    },
    "kernelspec": {
      "name": "python3",
      "display_name": "Python 3"
    },
    "accelerator": "GPU"
  },
  "cells": [
    {
      "cell_type": "markdown",
      "metadata": {
        "id": "view-in-github",
        "colab_type": "text"
      },
      "source": [
        "<a href=\"https://colab.research.google.com/github/rkrissada/udacity_pytorch/blob/master/Part_2_Neural_Networks_in_PyTorch_(Exercises).ipynb\" target=\"_parent\"><img src=\"https://colab.research.google.com/assets/colab-badge.svg\" alt=\"Open In Colab\"/></a>"
      ]
    },
    {
      "cell_type": "markdown",
      "metadata": {
        "id": "Df4AqZPuWWLY",
        "colab_type": "text"
      },
      "source": [
        "# Neural networks with PyTorch\n",
        "\n",
        "Deep learning networks tend to be massive with dozens or hundreds of layers, that's where the term \"deep\" comes from. You can build one of these deep networks using only weight matrices as we did in the previous notebook, but in general it's very cumbersome and difficult to implement. PyTorch has a nice module `nn` that provides a nice way to efficiently build large neural networks."
      ]
    },
    {
      "cell_type": "code",
      "metadata": {
        "id": "uJDVL-swWWLZ",
        "colab_type": "code",
        "colab": {}
      },
      "source": [
        "# Import necessary packages\n",
        "\n",
        "%matplotlib inline\n",
        "%config InlineBackend.figure_format = 'retina'\n",
        "\n",
        "import numpy as np\n",
        "import torch\n",
        "\n",
        "import helper\n",
        "\n",
        "import matplotlib.pyplot as plt"
      ],
      "execution_count": 0,
      "outputs": []
    },
    {
      "cell_type": "markdown",
      "metadata": {
        "id": "7S683YyzWWLd",
        "colab_type": "text"
      },
      "source": [
        "\n",
        "Now we're going to build a larger network that can solve a (formerly) difficult problem, identifying text in an image. Here we'll use the MNIST dataset which consists of greyscale handwritten digits. Each image is 28x28 pixels, you can see a sample below\n",
        "\n",
        "\n",
        "Our goal is to build a neural network that can take one of these images and predict the digit in the image.\n",
        "\n",
        "First up, we need to get our dataset. This is provided through the `torchvision` package. The code below will download the MNIST dataset, then create training and test datasets for us. Don't worry too much about the details here, you'll learn more about this later."
      ]
    },
    {
      "cell_type": "code",
      "metadata": {
        "id": "L57EUQFnWWLe",
        "colab_type": "code",
        "colab": {
          "base_uri": "https://localhost:8080/",
          "height": 255
        },
        "outputId": "82075ca2-7ad2-4105-f88f-4671cf00b7bc"
      },
      "source": [
        "### Run this cell\n",
        "\n",
        "from torchvision import datasets, transforms\n",
        "\n",
        "# Define a transform to normalize the data\n",
        "transform = transforms.Compose([transforms.ToTensor(),\n",
        "                              transforms.Normalize((0.5,), (0.5,)),\n",
        "                              ])\n",
        "\n",
        "# Download and load the training data\n",
        "trainset = datasets.MNIST('~/.pytorch/MNIST_data/', download=True, train=True, transform=transform)\n",
        "trainloader = torch.utils.data.DataLoader(trainset, batch_size=64, shuffle=True)"
      ],
      "execution_count": 2,
      "outputs": [
        {
          "output_type": "stream",
          "text": [
            "\r0it [00:00, ?it/s]"
          ],
          "name": "stderr"
        },
        {
          "output_type": "stream",
          "text": [
            "Downloading http://yann.lecun.com/exdb/mnist/train-images-idx3-ubyte.gz to /root/.pytorch/MNIST_data/MNIST/raw/train-images-idx3-ubyte.gz\n"
          ],
          "name": "stdout"
        },
        {
          "output_type": "stream",
          "text": [
            "9920512it [00:01, 8241550.44it/s]                            \n"
          ],
          "name": "stderr"
        },
        {
          "output_type": "stream",
          "text": [
            "Extracting /root/.pytorch/MNIST_data/MNIST/raw/train-images-idx3-ubyte.gz\n"
          ],
          "name": "stdout"
        },
        {
          "output_type": "stream",
          "text": [
            "  0%|          | 0/28881 [00:00<?, ?it/s]"
          ],
          "name": "stderr"
        },
        {
          "output_type": "stream",
          "text": [
            "Downloading http://yann.lecun.com/exdb/mnist/train-labels-idx1-ubyte.gz to /root/.pytorch/MNIST_data/MNIST/raw/train-labels-idx1-ubyte.gz\n"
          ],
          "name": "stdout"
        },
        {
          "output_type": "stream",
          "text": [
            "32768it [00:00, 136185.50it/s]           \n",
            "  0%|          | 0/1648877 [00:00<?, ?it/s]"
          ],
          "name": "stderr"
        },
        {
          "output_type": "stream",
          "text": [
            "Extracting /root/.pytorch/MNIST_data/MNIST/raw/train-labels-idx1-ubyte.gz\n",
            "Downloading http://yann.lecun.com/exdb/mnist/t10k-images-idx3-ubyte.gz to /root/.pytorch/MNIST_data/MNIST/raw/t10k-images-idx3-ubyte.gz\n"
          ],
          "name": "stdout"
        },
        {
          "output_type": "stream",
          "text": [
            "1654784it [00:00, 2029031.41it/s]                           \n",
            "0it [00:00, ?it/s]"
          ],
          "name": "stderr"
        },
        {
          "output_type": "stream",
          "text": [
            "Extracting /root/.pytorch/MNIST_data/MNIST/raw/t10k-images-idx3-ubyte.gz\n",
            "Downloading http://yann.lecun.com/exdb/mnist/t10k-labels-idx1-ubyte.gz to /root/.pytorch/MNIST_data/MNIST/raw/t10k-labels-idx1-ubyte.gz\n"
          ],
          "name": "stdout"
        },
        {
          "output_type": "stream",
          "text": [
            "8192it [00:00, 50911.01it/s]            "
          ],
          "name": "stderr"
        },
        {
          "output_type": "stream",
          "text": [
            "Extracting /root/.pytorch/MNIST_data/MNIST/raw/t10k-labels-idx1-ubyte.gz\n",
            "Processing...\n",
            "Done!\n"
          ],
          "name": "stdout"
        },
        {
          "output_type": "stream",
          "text": [
            "\n"
          ],
          "name": "stderr"
        }
      ]
    },
    {
      "cell_type": "markdown",
      "metadata": {
        "id": "pRZ3WyFKWWLg",
        "colab_type": "text"
      },
      "source": [
        "We have the training data loaded into `trainloader` and we make that an iterator with `iter(trainloader)`. Later, we'll use this to loop through the dataset for training, like\n",
        "\n",
        "```python\n",
        "for image, label in trainloader:\n",
        "    ## do things with images and labels\n",
        "```\n",
        "\n",
        "You'll notice I created the `trainloader` with a batch size of 64, and `shuffle=True`. The batch size is the number of images we get in one iteration from the data loader and pass through our network, often called a *batch*. And `shuffle=True` tells it to shuffle the dataset every time we start going through the data loader again. But here I'm just grabbing the first batch so we can check out the data. We can see below that `images` is just a tensor with size `(64, 1, 28, 28)`. So, 64 images per batch, 1 color channel, and 28x28 images."
      ]
    },
    {
      "cell_type": "code",
      "metadata": {
        "id": "bdZA0HfCWWLh",
        "colab_type": "code",
        "colab": {
          "base_uri": "https://localhost:8080/",
          "height": 68
        },
        "outputId": "156b0cb6-84b3-4866-a03a-9c381b1960da"
      },
      "source": [
        "dataiter = iter(trainloader)\n",
        "images, labels = dataiter.next()\n",
        "print(type(images))\n",
        "print(images.shape)\n",
        "print(labels.shape)"
      ],
      "execution_count": 3,
      "outputs": [
        {
          "output_type": "stream",
          "text": [
            "<class 'torch.Tensor'>\n",
            "torch.Size([64, 1, 28, 28])\n",
            "torch.Size([64])\n"
          ],
          "name": "stdout"
        }
      ]
    },
    {
      "cell_type": "markdown",
      "metadata": {
        "id": "paT-pAh1WWLj",
        "colab_type": "text"
      },
      "source": [
        "This is what one of the images looks like. "
      ]
    },
    {
      "cell_type": "code",
      "metadata": {
        "id": "rdzmsAm9WWLk",
        "colab_type": "code",
        "colab": {
          "base_uri": "https://localhost:8080/",
          "height": 267
        },
        "outputId": "c52af7ba-2a7d-4b22-e2d0-51f4434286d9"
      },
      "source": [
        "plt.imshow(images[1].numpy().squeeze(), cmap='Greys_r');"
      ],
      "execution_count": 4,
      "outputs": [
        {
          "output_type": "display_data",
          "data": {
            "image/png": "[encoded data removed]",
            "text/plain": [
              "<Figure size 432x288 with 1 Axes>"
            ]
          },
          "metadata": {
            "tags": [],
            "image/png": {
              "width": 253,
              "height": 250
            }
          }
        }
      ]
    },
    {
      "cell_type": "markdown",
      "metadata": {
        "id": "vfCMgNm3WWLo",
        "colab_type": "text"
      },
      "source": [
        "First, let's try to build a simple network for this dataset using weight matrices and matrix multiplications. Then, we'll see how to do it using PyTorch's `nn` module which provides a much more convenient and powerful method for defining network architectures.\n",
        "\n",
        "The networks you've seen so far are called *fully-connected* or *dense* networks. Each unit in one layer is connected to each unit in the next layer. In fully-connected networks, the input to each layer must be a one-dimensional vector (which can be stacked into a 2D tensor as a batch of multiple examples). However, our images are 28x28 2D tensors, so we need to convert them into 1D vectors. Thinking about sizes, we need to convert the batch of images with shape `(64, 1, 28, 28)` to a have a shape of `(64, 784)`, 784 is 28 times 28. This is typically called *flattening*, we flattened the 2D images into 1D vectors.\n",
        "\n",
        "Previously you built a network with one output unit. Here we need 10 output units, one for each digit. We want our network to predict the digit shown in an image, so what we'll do is calculate probabilities that the image is of any one digit or class. This ends up being a discrete probability distribution over the classes (digits) that tells us the most likely class for the image. That means we need 10 output units for the 10 classes (digits). We'll see how to convert the network output into a probability distribution next.\n",
        "\n",
        "> **Exercise:** Flatten the batch of images `images`. Then build a multi-layer network with 784 input units, 256 hidden units, and 10 output units using random tensors for the weights and biases. For now, use a sigmoid activation for the hidden layer. Leave the output layer without an activation, we'll add one that gives us a probability distribution next."
      ]
    },
    {
      "cell_type": "code",
      "metadata": {
        "id": "i2NjOk2wWWLp",
        "colab_type": "code",
        "colab": {
          "base_uri": "https://localhost:8080/",
          "height": 2210
        },
        "outputId": "be93f84a-aad2-4eb9-acb2-80eb7ea0d476"
      },
      "source": [
        "## Your solution\n",
        "\n",
        "def activation(x):\n",
        "    return 1/(1+torch.exp(-x))\n",
        "\n",
        "inputs = images.view(images.shape[0], -1)\n",
        "print(inputs.size())        # 28x28 = 784   mean 1 image have 784 input from flatten\n",
        "\n",
        "w1 = torch.randn(784, 256)  # 784 input units, 256 hidden units\n",
        "b1 = torch.randn(256)       # bias = hidden units\n",
        "\n",
        "w2 = torch.randn(256, 10)   # 256 hidden units, 10 output units \n",
        "b2 = torch.randn(10)        # bias = output\n",
        "\n",
        "h = activation(torch.mm(inputs, w1) + b1)\n",
        "\n",
        "out = torch.mm(h, w2) + b2 # output of your network, should have shape (64,10)\n",
        "out.shape\n",
        "print(out)"
      ],
      "execution_count": 15,
      "outputs": [
        {
          "output_type": "stream",
          "text": [
            "torch.Size([64, 784])\n",
            "tensor([[-1.2034e+01, -8.5768e+00,  1.8278e+00, -1.6329e+01,  2.2450e+01,\n",
            "          4.2346e+00, -2.3434e+01,  1.0706e+01, -1.0235e+00, -2.2465e+00],\n",
            "        [-1.5073e+01, -9.6785e+00,  7.7914e-01, -7.2039e+00,  1.8840e+01,\n",
            "          4.8880e+00, -1.0812e+01,  5.7826e+00, -5.7104e+00, -9.1557e+00],\n",
            "        [-9.4098e+00,  8.3896e+00, -1.1140e+01, -9.1745e+00,  1.2641e+01,\n",
            "          1.9698e+00, -1.9446e+01,  7.7529e+00, -4.7340e+00, -8.4207e+00],\n",
            "        [-7.6461e+00, -8.8568e+00, -8.2609e-01, -7.5475e+00,  2.8672e+01,\n",
            "          8.5217e+00, -1.3466e+01,  7.2145e+00, -8.9879e+00,  4.6972e+00],\n",
            "        [-1.5614e+01, -1.6963e+00,  7.8571e+00, -1.0101e+01,  1.3047e+01,\n",
            "          9.1237e+00, -1.8922e+01,  2.0506e+00,  7.6849e+00, -1.6370e+00],\n",
            "        [-9.7956e+00, -1.2533e+01, -4.4025e+00, -6.5865e-01,  1.7838e+01,\n",
            "          1.0230e+01, -1.4587e+01,  7.6168e+00, -9.1395e+00, -1.2829e+00],\n",
            "        [-1.5487e+01, -4.2831e+00,  7.8989e+00, -1.8864e+00,  2.1793e+01,\n",
            "          4.0730e+00, -9.2539e+00,  1.0028e+01, -5.7010e+00, -6.9526e+00],\n",
            "        [-1.0195e+01, -9.8621e+00, -2.8674e+00, -6.8808e+00,  1.4173e+01,\n",
            "          3.2878e+00, -1.2151e+01,  3.5191e+00,  1.8302e+00, -4.3659e+00],\n",
            "        [-2.4751e+01, -7.9557e+00,  3.0914e+00, -3.0734e+00,  1.8907e+01,\n",
            "          6.2703e+00, -1.1977e+01,  1.9922e+00,  6.6688e+00, -3.0234e+00],\n",
            "        [-1.4879e+01, -1.3544e+01,  6.6554e+00,  9.4038e-01,  2.3900e+01,\n",
            "          3.2333e+00, -1.4922e+01, -1.5234e-01, -4.7129e+00, -3.9068e+00],\n",
            "        [-1.8847e+01, -6.8029e+00,  5.4101e+00, -5.5744e+00,  1.9405e+01,\n",
            "          4.5280e+00, -1.4957e+01, -2.0505e+00,  7.5094e-01, -4.7490e+00],\n",
            "        [-1.6212e+01, -1.2438e+01,  3.8245e+00, -4.5220e+00,  1.8691e+01,\n",
            "          5.7368e+00, -1.7386e+01, -9.3940e+00, -4.2767e+00, -3.4229e+00],\n",
            "        [-2.4247e+01, -1.1758e+01,  3.8451e+00, -4.0549e+00,  1.9709e+01,\n",
            "          1.2267e+01, -9.4806e+00, -9.4779e+00,  7.5187e+00,  1.9584e+00],\n",
            "        [-8.7926e+00, -1.7261e+01,  2.2444e+00, -1.6355e+00,  1.6785e+01,\n",
            "          1.2879e+01, -1.4167e+01, -7.9009e+00, -3.2419e+00, -2.1763e+00],\n",
            "        [-1.2042e+01, -1.2811e+01,  6.6322e+00, -3.2531e+00,  1.9233e+01,\n",
            "          6.4684e-01, -1.5183e+01,  1.1575e+01, -6.7421e+00,  1.7793e+00],\n",
            "        [-1.5742e+01, -9.3528e+00,  2.7380e+00, -3.9309e+00,  1.7204e+01,\n",
            "          8.0382e+00, -1.4676e+01,  3.5695e+00, -2.9353e+00, -4.9267e+00],\n",
            "        [-1.2034e+01, -8.5595e+00, -5.2470e+00, -5.1786e+00,  2.4868e+01,\n",
            "          8.3862e-01, -2.4442e+01,  4.8245e+00,  9.1781e-01,  4.0354e-02],\n",
            "        [ 2.4829e-01,  5.0403e+00,  7.5071e+00,  1.9839e+00,  6.6235e+00,\n",
            "          7.9189e+00, -1.0841e+01,  7.5230e+00, -3.3817e+00, -5.3905e+00],\n",
            "        [-6.5143e+00, -1.0569e+01,  1.5864e+01,  3.4920e+00,  2.1796e+01,\n",
            "          5.4539e+00, -9.6584e+00,  2.3204e+00, -1.5852e-01,  3.1566e+00],\n",
            "        [-7.3068e+00, -1.3351e+01,  7.3896e+00, -6.2265e+00,  2.0321e+01,\n",
            "          9.7323e+00, -1.0950e+01, -7.5527e-01, -6.6789e+00, -3.0687e+00],\n",
            "        [-1.6083e+01, -1.3132e+01,  1.2171e+00, -4.2805e+00,  1.7724e+01,\n",
            "          1.0806e+01, -4.1750e+00, -3.3473e+00,  1.0275e+00, -2.0774e+00],\n",
            "        [-1.3088e+01, -8.4539e+00,  4.9222e+00,  2.0368e+00,  2.4342e+01,\n",
            "          7.2319e+00, -1.9923e+01, -2.0474e+00, -1.4364e+01,  1.7364e+00],\n",
            "        [-1.5277e+01, -5.6920e+00, -2.4093e+00, -9.8150e+00,  1.8807e+01,\n",
            "          1.6946e+00, -2.7924e+00,  3.9976e+00, -2.1417e+00, -9.4564e+00],\n",
            "        [-1.4617e+01, -8.9212e+00, -1.4891e+00,  1.1557e+00,  2.7372e+01,\n",
            "          4.5291e+00, -1.2618e+01, -4.3198e+00, -3.5780e+00, -2.6001e+00],\n",
            "        [-1.7496e+01, -1.0142e+01, -6.8657e+00, -8.9170e+00,  2.1371e+01,\n",
            "          1.8758e+01, -1.1399e+01, -6.3657e+00, -7.5348e+00, -7.6377e+00],\n",
            "        [-1.1539e+01, -6.0932e+00, -1.1084e+01, -4.3285e+00,  2.0902e+01,\n",
            "          8.2580e+00, -2.5301e+01, -2.7563e+00, -1.0403e+01, -3.8699e+00],\n",
            "        [-1.7519e+01, -1.9671e+01,  3.5613e+00, -3.3835e+00,  1.5807e+01,\n",
            "          9.6407e+00, -7.5349e+00,  2.7994e-01, -9.4738e+00,  8.0402e-01],\n",
            "        [-1.3515e+01, -9.0006e+00, -1.8701e+00, -1.3004e+01,  1.7029e+01,\n",
            "          6.8853e+00, -2.5445e+01,  8.2745e+00, -8.2945e+00, -4.7969e+00],\n",
            "        [-1.1605e+01, -1.0793e+01, -1.8363e-01,  2.6083e-01,  1.7034e+01,\n",
            "          7.7196e+00, -1.5064e+01,  1.0065e+01, -5.1363e+00, -4.6429e+00],\n",
            "        [-1.5283e+01, -5.3365e+00, -1.3573e+00, -9.6028e+00,  1.9755e+01,\n",
            "          1.2176e+01, -1.8151e+01,  7.0743e+00, -3.7868e+00, -2.7783e+00],\n",
            "        [-1.3870e+01, -1.6936e+01,  1.1493e+01, -5.8027e+00,  1.3856e+01,\n",
            "          1.2304e+01, -1.3803e+01,  5.7621e+00, -1.6008e-01, -2.8038e+00],\n",
            "        [-1.4922e+01,  3.6386e+00,  8.0596e-01, -2.6531e+00,  2.1667e+01,\n",
            "          8.0537e+00, -1.3456e+01,  2.2494e+00, -9.4654e+00, -5.6882e+00],\n",
            "        [-1.1817e+01, -3.7949e+00, -4.0400e+00, -5.6174e+00,  2.2088e+01,\n",
            "          1.3148e+01, -1.6506e+01, -1.8339e+00, -1.2967e+00, -5.6885e+00],\n",
            "        [-7.5812e+00, -1.4720e+01,  4.8972e+00, -1.9510e+00,  1.9765e+01,\n",
            "          3.7187e+00, -1.4724e+01,  3.1384e+00,  6.9772e-01,  2.5829e-01],\n",
            "        [-1.5211e+01, -1.0153e+01,  1.5932e+01, -2.1045e+00,  1.5691e+01,\n",
            "          8.9926e+00, -8.1290e+00, -2.6303e-01, -3.5762e+00, -5.3687e+00],\n",
            "        [-1.9290e+01, -8.9261e+00, -1.0691e+00, -6.7516e+00,  1.7616e+01,\n",
            "          1.1222e+01, -1.6866e+01,  6.9440e+00, -3.6357e+00, -3.4427e+00],\n",
            "        [-1.5017e+01, -5.8318e+00, -6.7609e+00, -1.1284e+01,  2.0723e+01,\n",
            "          2.7514e+00, -2.5551e+01,  2.3453e+00,  6.5164e-01, -5.7737e+00],\n",
            "        [-3.4489e+00,  1.0884e+00,  4.5616e+00, -3.9626e+00,  1.1909e+01,\n",
            "          3.5493e+00, -1.9345e+01,  6.8716e+00, -5.3534e+00, -6.8689e+00],\n",
            "        [-1.6673e+01,  3.1853e-02,  1.2772e+01, -4.6546e+00,  2.1283e+01,\n",
            "          6.2602e+00, -1.5789e+01,  9.6146e+00, -7.7116e+00,  4.8083e+00],\n",
            "        [-1.7134e+01, -5.7571e+00, -1.9778e+00, -7.2559e+00,  1.0734e+01,\n",
            "          1.0945e+01, -8.4260e+00, -1.2998e-01,  9.6562e+00, -2.2747e+00],\n",
            "        [-1.2974e+01, -1.1550e+01,  2.6078e+00, -6.5853e+00,  2.7388e+01,\n",
            "          4.6223e+00, -2.3266e+01, -9.8288e-01, -9.5146e+00, -6.9637e+00],\n",
            "        [-7.6675e+00, -3.1497e+00, -5.7516e+00, -3.6789e+00,  1.9203e+01,\n",
            "          1.7591e-02, -8.6949e+00,  1.8676e+01, -1.7915e+00,  4.8378e+00],\n",
            "        [-1.2490e+01, -1.4487e+01, -2.2240e+00, -7.6748e+00,  1.4462e+01,\n",
            "          4.9543e+00, -1.1165e+01, -3.0732e+00,  3.1979e+00,  5.8696e-01],\n",
            "        [-1.0870e+01, -4.0770e-01,  5.4335e+00, -9.7804e+00,  1.7253e+01,\n",
            "          8.5530e+00, -1.1733e+01,  1.9716e+00, -3.9139e+00, -8.3729e-01],\n",
            "        [-8.7352e+00, -1.0240e+01,  9.7081e+00, -1.0897e-03,  1.7776e+01,\n",
            "          9.6886e+00, -1.0414e+01,  7.0469e+00,  7.3394e-01,  7.7169e+00],\n",
            "        [-1.7495e+01, -9.3165e+00, -1.5739e+00, -9.8246e+00,  6.6583e+00,\n",
            "          6.6535e+00, -1.5146e+01,  1.2395e+01, -7.6997e+00, -1.6481e+00],\n",
            "        [-2.2353e+01, -7.3355e+00,  8.9604e+00, -3.4475e+00,  1.6445e+01,\n",
            "          1.7356e+01, -1.6590e+01,  1.6011e+00, -9.9401e+00, -1.0618e+01],\n",
            "        [-6.7815e+00,  2.2014e-01,  1.5805e+00, -5.8408e+00,  1.8551e+01,\n",
            "          4.5104e+00, -1.4339e+01,  3.1646e+00, -1.7724e+00, -4.1931e+00],\n",
            "        [-1.3951e+01, -5.5598e+00,  2.2062e+00, -2.0468e+00,  1.5737e+01,\n",
            "          1.7042e+00, -1.5810e+01, -6.9289e-01,  2.3015e+00, -5.3996e+00],\n",
            "        [-1.6835e+01, -8.7250e+00, -4.0401e+00, -6.0303e+00,  2.0388e+01,\n",
            "          1.0410e+01, -9.3759e+00,  3.2798e-01,  3.8679e+00, -9.8317e+00],\n",
            "        [-5.6111e+00, -1.3697e+01,  6.2953e+00, -2.2543e+00,  1.9648e+01,\n",
            "          8.4362e+00, -1.5274e+01, -5.3173e+00, -1.5841e+00, -6.1924e+00],\n",
            "        [-2.5494e+01, -7.2610e+00, -8.9323e-01, -6.9728e+00,  1.7918e+01,\n",
            "          9.3266e+00, -9.1971e+00, -2.4312e+00, -2.0822e+00, -3.1082e+00],\n",
            "        [-1.5813e+01,  3.6378e+00, -1.5768e+00, -1.0912e+01,  1.7837e+01,\n",
            "          3.1374e+00, -1.5500e+01,  6.3727e+00, -5.1582e-02, -1.0336e+01],\n",
            "        [-1.6096e+01, -4.2350e+00,  3.3012e+00, -5.5966e+00,  9.2564e+00,\n",
            "          2.7153e+00, -1.8034e+01, -9.3342e+00, -1.4417e+00, -4.7919e+00],\n",
            "        [-1.5482e+01, -1.6033e+01,  5.1030e+00, -5.1315e+00,  1.4207e+01,\n",
            "          3.5747e+00, -2.0303e+01,  6.5484e-01,  1.2413e+00,  1.7569e-01],\n",
            "        [-1.4119e+01, -8.9012e+00,  2.2939e+00, -2.4790e+00,  9.7806e+00,\n",
            "          2.7225e+00, -1.4429e+01,  6.8600e-01, -9.7672e+00, -1.9806e+00],\n",
            "        [-2.3861e+01, -1.0287e+01,  3.6231e+00, -1.9064e-01,  1.9953e+01,\n",
            "          1.4911e+01, -1.0187e+01,  2.9534e+00,  7.4792e-01, -2.5140e+00],\n",
            "        [-2.3547e+01, -9.6784e+00,  8.2054e+00,  5.9497e+00,  2.4818e+01,\n",
            "          5.7282e+00, -6.9601e+00,  7.0228e+00,  1.0042e+01, -4.5079e+00],\n",
            "        [-4.3885e+00, -3.0624e+00,  4.7337e+00,  1.8522e+00,  1.0970e+01,\n",
            "          3.6928e+00, -1.8774e+01,  1.5251e+00, -5.8622e+00, -5.7156e+00],\n",
            "        [-1.2277e+01, -2.4331e+00, -3.0027e+00, -9.2239e-01,  2.2399e+01,\n",
            "          6.7845e+00, -7.3728e+00, -1.5167e+00, -2.8293e+00, -1.1727e+01],\n",
            "        [-1.0199e+01, -1.3114e+01,  3.0456e+00,  2.0772e+00,  2.3593e+01,\n",
            "          1.1792e+01, -1.7048e+01, -1.5654e+00,  6.1382e+00, -2.1390e+00],\n",
            "        [-2.1613e+01, -1.1198e+01, -4.6332e+00, -5.0161e+00,  1.6958e+01,\n",
            "          9.1408e+00, -1.7149e+01,  5.2842e+00,  1.7484e+00, -1.0713e+01],\n",
            "        [ 1.9742e+00, -2.4711e+00, -8.2863e+00, -5.3921e+00,  1.8193e+01,\n",
            "          6.6707e+00, -1.5050e+01, -6.5681e+00, -3.4567e+00,  7.9282e-01],\n",
            "        [-1.7075e+01, -5.8557e+00,  9.1118e+00, -3.7715e+00,  2.0842e+01,\n",
            "          5.2449e+00, -6.7365e+00,  4.5483e+00, -2.5380e-01, -3.3116e+00]])\n"
          ],
          "name": "stdout"
        }
      ]
    },
    {
      "cell_type": "markdown",
      "metadata": {
        "id": "68qdmCtEWWLs",
        "colab_type": "text"
      },
      "source": [
        "Now we have 10 outputs for our network. We want to pass in an image to our network and get out a probability distribution over the classes that tells us the likely class(es) the image belongs to. Something that looks like this:\n",
        "<img src='assets/image_distribution.png' width=500px>\n",
        "\n",
        "Here we see that the probability for each class is roughly the same. This is representing an untrained network, it hasn't seen any data yet so it just returns a uniform distribution with equal probabilities for each class.\n",
        "\n",
        "To calculate this probability distribution, we often use the [**softmax** function](https://en.wikipedia.org/wiki/Softmax_function). Mathematically this looks like\n",
        "\n",
        "$$\n",
        "\\Large \\sigma(x_i) = \\cfrac{e^{x_i}}{\\sum_k^K{e^{x_k}}}\n",
        "$$\n",
        "\n",
        "What this does is squish each input $x_i$ between 0 and 1 and normalizes the values to give you a proper probability distribution where the probabilites sum up to one.\n",
        "\n",
        "> **Exercise:** Implement a function `softmax` that performs the softmax calculation and returns probability distributions for each example in the batch. Note that you'll need to pay attention to the shapes when doing this. If you have a tensor `a` with shape `(64, 10)` and a tensor `b` with shape `(64,)`, doing `a/b` will give you an error because PyTorch will try to do the division across the columns (called broadcasting) but you'll get a size mismatch. The way to think about this is for each of the 64 examples, you only want to divide by one value, the sum in the denominator. So you need `b` to have a shape of `(64, 1)`. This way PyTorch will divide the 10 values in each row of `a` by the one value in each row of `b`. Pay attention to how you take the sum as well. You'll need to define the `dim` keyword in `torch.sum`. Setting `dim=0` takes the sum across the rows while `dim=1` takes the sum across the columns."
      ]
    },
    {
      "cell_type": "code",
      "metadata": {
        "id": "DvPGkHvpWWLt",
        "colab_type": "code",
        "colab": {
          "base_uri": "https://localhost:8080/",
          "height": 170
        },
        "outputId": "42434ca5-8914-491a-8fac-b34ee445a581"
      },
      "source": [
        "def softmax(x):\n",
        "    ## TODO: Implement the softmax function here\n",
        "    return torch.exp(x)/torch.sum(torch.exp(x), dim=1).view(-1,1)\n",
        "\n",
        "# Here, out should be the output of the network in the previous excercise with shape (64,10)\n",
        "probabilities = softmax(out)\n",
        "\n",
        "# Does it have the right shape? Should be (64, 10)\n",
        "print(probabilities.shape)\n",
        "# Does it sum to 1?\n",
        "print(probabilities.sum(dim=1))"
      ],
      "execution_count": 20,
      "outputs": [
        {
          "output_type": "stream",
          "text": [
            "torch.Size([64, 10])\n",
            "tensor([1.0000, 1.0000, 1.0000, 1.0000, 1.0000, 1.0000, 1.0000, 1.0000, 1.0000,\n",
            "        1.0000, 1.0000, 1.0000, 1.0000, 1.0000, 1.0000, 1.0000, 1.0000, 1.0000,\n",
            "        1.0000, 1.0000, 1.0000, 1.0000, 1.0000, 1.0000, 1.0000, 1.0000, 1.0000,\n",
            "        1.0000, 1.0000, 1.0000, 1.0000, 1.0000, 1.0000, 1.0000, 1.0000, 1.0000,\n",
            "        1.0000, 1.0000, 1.0000, 1.0000, 1.0000, 1.0000, 1.0000, 1.0000, 1.0000,\n",
            "        1.0000, 1.0000, 1.0000, 1.0000, 1.0000, 1.0000, 1.0000, 1.0000, 1.0000,\n",
            "        1.0000, 1.0000, 1.0000, 1.0000, 1.0000, 1.0000, 1.0000, 1.0000, 1.0000,\n",
            "        1.0000])\n"
          ],
          "name": "stdout"
        }
      ]
    },
    {
      "cell_type": "markdown",
      "metadata": {
        "id": "4HT3ku2kWWLv",
        "colab_type": "text"
      },
      "source": [
        "## Building networks with PyTorch\n",
        "\n",
        "PyTorch provides a module `nn` that makes building networks much simpler. Here I'll show you how to build the same one as above with 784 inputs, 256 hidden units, 10 output units and a softmax output."
      ]
    },
    {
      "cell_type": "code",
      "metadata": {
        "id": "EKlIPCrpWWLx",
        "colab_type": "code",
        "colab": {}
      },
      "source": [
        "from torch import nn"
      ],
      "execution_count": 0,
      "outputs": []
    },
    {
      "cell_type": "code",
      "metadata": {
        "id": "zkWQ7OqtWWL1",
        "colab_type": "code",
        "colab": {}
      },
      "source": [
        "class Network(nn.Module):\n",
        "    def __init__(self):\n",
        "        super().__init__()\n",
        "        \n",
        "        # Inputs to hidden layer linear transformation\n",
        "        self.hidden = nn.Linear(784, 256)\n",
        "        # Output layer, 10 units - one for each digit\n",
        "        self.output = nn.Linear(256, 10)\n",
        "        \n",
        "        # Define sigmoid activation and softmax output \n",
        "        self.sigmoid = nn.Sigmoid()\n",
        "        self.softmax = nn.Softmax(dim=1)\n",
        "        \n",
        "    def forward(self, x):\n",
        "        # Pass the input tensor through each of our operations\n",
        "        x = self.hidden(x)\n",
        "        x = self.sigmoid(x)\n",
        "        x = self.output(x)\n",
        "        x = self.softmax(x)\n",
        "        \n",
        "        return x"
      ],
      "execution_count": 0,
      "outputs": []
    },
    {
      "cell_type": "markdown",
      "metadata": {
        "id": "BTK1Xd3zWWL4",
        "colab_type": "text"
      },
      "source": [
        "Let's go through this bit by bit.\n",
        "\n",
        "```python\n",
        "class Network(nn.Module):\n",
        "```\n",
        "\n",
        "Here we're inheriting from `nn.Module`. Combined with `super().__init__()` this creates a class that tracks the architecture and provides a lot of useful methods and attributes. It is mandatory to inherit from `nn.Module` when you're creating a class for your network. The name of the class itself can be anything.\n",
        "\n",
        "```python\n",
        "self.hidden = nn.Linear(784, 256)\n",
        "```\n",
        "\n",
        "This line creates a module for a linear transformation, $x\\mathbf{W} + b$, with 784 inputs and 256 outputs and assigns it to `self.hidden`. The module automatically creates the weight and bias tensors which we'll use in the `forward` method. You can access the weight and bias tensors once the network (`net`) is created with `net.hidden.weight` and `net.hidden.bias`.\n",
        "\n",
        "```python\n",
        "self.output = nn.Linear(256, 10)\n",
        "```\n",
        "\n",
        "Similarly, this creates another linear transformation with 256 inputs and 10 outputs.\n",
        "\n",
        "```python\n",
        "self.sigmoid = nn.Sigmoid()\n",
        "self.softmax = nn.Softmax(dim=1)\n",
        "```\n",
        "\n",
        "Here I defined operations for the sigmoid activation and softmax output. Setting `dim=1` in `nn.Softmax(dim=1)` calculates softmax across the columns.\n",
        "\n",
        "```python\n",
        "def forward(self, x):\n",
        "```\n",
        "\n",
        "PyTorch networks created with `nn.Module` must have a `forward` method defined. It takes in a tensor `x` and passes it through the operations you defined in the `__init__` method.\n",
        "\n",
        "```python\n",
        "x = self.hidden(x)\n",
        "x = self.sigmoid(x)\n",
        "x = self.output(x)\n",
        "x = self.softmax(x)\n",
        "```\n",
        "\n",
        "Here the input tensor `x` is passed through each operation and reassigned to `x`. We can see that the input tensor goes through the hidden layer, then a sigmoid function, then the output layer, and finally the softmax function. It doesn't matter what you name the variables here, as long as the inputs and outputs of the operations match the network architecture you want to build. The order in which you define things in the `__init__` method doesn't matter, but you'll need to sequence the operations correctly in the `forward` method.\n",
        "\n",
        "Now we can create a `Network` object."
      ]
    },
    {
      "cell_type": "code",
      "metadata": {
        "id": "zDSED1dWWWL5",
        "colab_type": "code",
        "colab": {}
      },
      "source": [
        "# Create the network and look at it's text representation\n",
        "model = Network()\n",
        "model"
      ],
      "execution_count": 0,
      "outputs": []
    },
    {
      "cell_type": "markdown",
      "metadata": {
        "id": "6eu73SBFWWL7",
        "colab_type": "text"
      },
      "source": [
        "You can define the network somewhat more concisely and clearly using the `torch.nn.functional` module. This is the most common way you'll see networks defined as many operations are simple element-wise functions. We normally import this module as `F`, `import torch.nn.functional as F`."
      ]
    },
    {
      "cell_type": "code",
      "metadata": {
        "id": "Ir_xl7FUWWL7",
        "colab_type": "code",
        "colab": {}
      },
      "source": [
        "import torch.nn.functional as F\n",
        "\n",
        "class Network(nn.Module):\n",
        "    def __init__(self):\n",
        "        super().__init__()\n",
        "        # Inputs to hidden layer linear transformation\n",
        "        self.hidden = nn.Linear(784, 256)\n",
        "        # Output layer, 10 units - one for each digit\n",
        "        self.output = nn.Linear(256, 10)\n",
        "        \n",
        "    def forward(self, x):\n",
        "        # Hidden layer with sigmoid activation\n",
        "        x = F.sigmoid(self.hidden(x))\n",
        "        # Output layer with softmax activation\n",
        "        x = F.softmax(self.output(x), dim=1)\n",
        "        \n",
        "        return x"
      ],
      "execution_count": 0,
      "outputs": []
    },
    {
      "cell_type": "markdown",
      "metadata": {
        "id": "Crqca5RsWWL9",
        "colab_type": "text"
      },
      "source": [
        "### Activation functions\n",
        "\n",
        "So far we've only been looking at the sigmoid activation function, but in general any function can be used as an activation function. The only requirement is that for a network to approximate a non-linear function, the activation functions must be non-linear. Here are a few more examples of common activation functions: Tanh (hyperbolic tangent), and ReLU (rectified linear unit).\n",
        "\n",
        "<img src=\"assets/activation.png\" width=700px>\n",
        "\n",
        "In practice, the ReLU function is used almost exclusively as the activation function for hidden layers."
      ]
    },
    {
      "cell_type": "markdown",
      "metadata": {
        "id": "Na2krnrWWWL-",
        "colab_type": "text"
      },
      "source": [
        "### Your Turn to Build a Network\n",
        "\n",
        "<img src=\"assets/mlp_mnist.png\" width=600px>\n",
        "\n",
        "> **Exercise:** Create a network with 784 input units, a hidden layer with 128 units and a ReLU activation, then a hidden layer with 64 units and a ReLU activation, and finally an output layer with a softmax activation as shown above. You can use a ReLU activation with the `nn.ReLU` module or `F.relu` function.\n",
        "\n",
        "It's good practice to name your layers by their type of network, for instance 'fc' to represent a fully-connected layer. As you code your solution, use `fc1`, `fc2`, and `fc3` as your layer names."
      ]
    },
    {
      "cell_type": "code",
      "metadata": {
        "scrolled": true,
        "id": "b7VEvB2_WWL_",
        "colab_type": "code",
        "colab": {}
      },
      "source": [
        "## Your solution here\n"
      ],
      "execution_count": 0,
      "outputs": []
    },
    {
      "cell_type": "markdown",
      "metadata": {
        "id": "gp53NbV5WWMC",
        "colab_type": "text"
      },
      "source": [
        "### Initializing weights and biases\n",
        "\n",
        "The weights and such are automatically initialized for you, but it's possible to customize how they are initialized. The weights and biases are tensors attached to the layer you defined, you can get them with `model.fc1.weight` for instance."
      ]
    },
    {
      "cell_type": "code",
      "metadata": {
        "id": "JfJQ9ah9WWMC",
        "colab_type": "code",
        "colab": {}
      },
      "source": [
        "print(model.fc1.weight)\n",
        "print(model.fc1.bias)"
      ],
      "execution_count": 0,
      "outputs": []
    },
    {
      "cell_type": "markdown",
      "metadata": {
        "id": "OiWZDiczWWME",
        "colab_type": "text"
      },
      "source": [
        "For custom initialization, we want to modify these tensors in place. These are actually autograd *Variables*, so we need to get back the actual tensors with `model.fc1.weight.data`. Once we have the tensors, we can fill them with zeros (for biases) or random normal values."
      ]
    },
    {
      "cell_type": "code",
      "metadata": {
        "id": "iYa4QfyQWWMF",
        "colab_type": "code",
        "colab": {}
      },
      "source": [
        "# Set biases to all zeros\n",
        "model.fc1.bias.data.fill_(0)"
      ],
      "execution_count": 0,
      "outputs": []
    },
    {
      "cell_type": "code",
      "metadata": {
        "id": "8LY9lJCgWWMH",
        "colab_type": "code",
        "colab": {}
      },
      "source": [
        "# sample from random normal with standard dev = 0.01\n",
        "model.fc1.weight.data.normal_(std=0.01)"
      ],
      "execution_count": 0,
      "outputs": []
    },
    {
      "cell_type": "markdown",
      "metadata": {
        "id": "9kdc7u4bWWML",
        "colab_type": "text"
      },
      "source": [
        "### Forward pass\n",
        "\n",
        "Now that we have a network, let's see what happens when we pass in an image."
      ]
    },
    {
      "cell_type": "code",
      "metadata": {
        "id": "zLE6SQItWWMN",
        "colab_type": "code",
        "colab": {}
      },
      "source": [
        "# Grab some data \n",
        "dataiter = iter(trainloader)\n",
        "images, labels = dataiter.next()\n",
        "\n",
        "# Resize images into a 1D vector, new shape is (batch size, color channels, image pixels) \n",
        "images.resize_(64, 1, 784)\n",
        "# or images.resize_(images.shape[0], 1, 784) to automatically get batch size\n",
        "\n",
        "# Forward pass through the network\n",
        "img_idx = 0\n",
        "ps = model.forward(images[img_idx,:])\n",
        "\n",
        "img = images[img_idx]\n",
        "helper.view_classify(img.view(1, 28, 28), ps)"
      ],
      "execution_count": 0,
      "outputs": []
    },
    {
      "cell_type": "markdown",
      "metadata": {
        "id": "120HNLZkWWMR",
        "colab_type": "text"
      },
      "source": [
        "As you can see above, our network has basically no idea what this digit is. It's because we haven't trained it yet, all the weights are random!\n",
        "\n",
        "### Using `nn.Sequential`\n",
        "\n",
        "PyTorch provides a convenient way to build networks like this where a tensor is passed sequentially through operations, `nn.Sequential` ([documentation](https://pytorch.org/docs/master/nn.html#torch.nn.Sequential)). Using this to build the equivalent network:"
      ]
    },
    {
      "cell_type": "code",
      "metadata": {
        "id": "CLjswRppWWMS",
        "colab_type": "code",
        "colab": {}
      },
      "source": [
        "# Hyperparameters for our network\n",
        "input_size = 784\n",
        "hidden_sizes = [128, 64]\n",
        "output_size = 10\n",
        "\n",
        "# Build a feed-forward network\n",
        "model = nn.Sequential(nn.Linear(input_size, hidden_sizes[0]),\n",
        "                      nn.ReLU(),\n",
        "                      nn.Linear(hidden_sizes[0], hidden_sizes[1]),\n",
        "                      nn.ReLU(),\n",
        "                      nn.Linear(hidden_sizes[1], output_size),\n",
        "                      nn.Softmax(dim=1))\n",
        "print(model)\n",
        "\n",
        "# Forward pass through the network and display output\n",
        "images, labels = next(iter(trainloader))\n",
        "images.resize_(images.shape[0], 1, 784)\n",
        "ps = model.forward(images[0,:])\n",
        "helper.view_classify(images[0].view(1, 28, 28), ps)"
      ],
      "execution_count": 0,
      "outputs": []
    },
    {
      "cell_type": "markdown",
      "metadata": {
        "id": "a_UoXJxkWWMV",
        "colab_type": "text"
      },
      "source": [
        "Here our model is the same as before: 784 input units, a hidden layer with 128 units, ReLU activation, 64 unit hidden layer, another ReLU, then the output layer with 10 units, and the softmax output.\n",
        "\n",
        "The operations are available by passing in the appropriate index. For example, if you want to get first Linear operation and look at the weights, you'd use `model[0]`."
      ]
    },
    {
      "cell_type": "code",
      "metadata": {
        "id": "2iD8BMpFWWMW",
        "colab_type": "code",
        "colab": {}
      },
      "source": [
        "print(model[0])\n",
        "model[0].weight"
      ],
      "execution_count": 0,
      "outputs": []
    },
    {
      "cell_type": "markdown",
      "metadata": {
        "id": "hgYMvjk1WWMZ",
        "colab_type": "text"
      },
      "source": [
        "You can also pass in an `OrderedDict` to name the individual layers and operations, instead of using incremental integers. Note that dictionary keys must be unique, so _each operation must have a different name_."
      ]
    },
    {
      "cell_type": "code",
      "metadata": {
        "id": "JhjHJ5XLWWMa",
        "colab_type": "code",
        "colab": {}
      },
      "source": [
        "from collections import OrderedDict\n",
        "model = nn.Sequential(OrderedDict([\n",
        "                      ('fc1', nn.Linear(input_size, hidden_sizes[0])),\n",
        "                      ('relu1', nn.ReLU()),\n",
        "                      ('fc2', nn.Linear(hidden_sizes[0], hidden_sizes[1])),\n",
        "                      ('relu2', nn.ReLU()),\n",
        "                      ('output', nn.Linear(hidden_sizes[1], output_size)),\n",
        "                      ('softmax', nn.Softmax(dim=1))]))\n",
        "model"
      ],
      "execution_count": 0,
      "outputs": []
    },
    {
      "cell_type": "markdown",
      "metadata": {
        "id": "Yqmzsx8JWWMf",
        "colab_type": "text"
      },
      "source": [
        "Now you can access layers either by integer or the name"
      ]
    },
    {
      "cell_type": "code",
      "metadata": {
        "id": "1fO4HdmOWWMf",
        "colab_type": "code",
        "colab": {}
      },
      "source": [
        "print(model[0])\n",
        "print(model.fc1)"
      ],
      "execution_count": 0,
      "outputs": []
    },
    {
      "cell_type": "markdown",
      "metadata": {
        "id": "tYGUpd5lWWMh",
        "colab_type": "text"
      },
      "source": [
        "In the next notebook, we'll see how we can train a neural network to accuractly predict the numbers appearing in the MNIST images."
      ]
    }
  ]
}